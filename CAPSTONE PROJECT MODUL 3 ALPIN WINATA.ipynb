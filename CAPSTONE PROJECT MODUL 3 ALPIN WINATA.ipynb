{
 "cells": [
  {
   "cell_type": "markdown",
   "id": "ed0cf956-aea4-4040-9bb7-2f26417f2d65",
   "metadata": {},
   "source": [
    "# Customer Lifetime Value Using Machine Learning"
   ]
  },
  {
   "cell_type": "markdown",
   "id": "06990795-99ad-4549-8f03-855cf7ab8a43",
   "metadata": {},
   "source": [
    "## Business Problem\n",
    "### Context\n",
    "Ini adalah Dataset dengan polis asuransi kendaraan mereka. Rincian tentang pelanggan dan asuransi yang diambil untuk kendaraan mereka disediakan yang dapat dieksplorasi untuk segmen pelanggan sejenis.\n",
    "\n",
    "Asuransi kendaraan (juga dikenal sebagai asuransi mobil, asuransi kendaraan bermotor, atau asuransi mobil) adalah asuransi untuk mobil, truk, sepeda motor, dan kendaraan jalan lainnya. Penggunaan utamanya adalah untuk memberikan perlindungan finansial terhadap kerusakan fisik atau cedera tubuh akibat tabrakan lalu lintas dan terhadap tanggung jawab yang juga dapat timbul dari insiden di dalam kendaraan. Asuransi kendaraan tambahan dapat menawarkan perlindungan finansial terhadap pencurian kendaraan, dan terhadap kerusakan kendaraan yang disebabkan oleh peristiwa selain tabrakan lalu lintas, seperti kuncian, cuaca atau bencana alam, dan kerusakan yang disebabkan oleh tabrakan dengan benda-benda yang tidak bergerak. Dengan itu Perusahaan A Insurance menawarkan banyak discount dan bonus kepada customer setia mereka."
   ]
  },
  {
   "cell_type": "markdown",
   "id": "ef6f41f6-946f-4774-b66b-131ee7e9a1a0",
   "metadata": {},
   "source": [
    "### Problem Statement\n",
    "Customer Lifetime Value mewakili nilai pelanggan bagi perusahaan selama periode waktu tertentu. Ini adalah pasar yang kompetitif bagi perusahaan asuransi pada tahun 2019, dan premi asuransi bukan satu-satunya faktor penentu dalam keputusan pelanggan. CLV adalah metrik yang berpusat pada pelanggan, dan dasar yang kuat untuk membangun untuk mempertahankan pelanggan yang berharga, meningkatkan pendapatan dari pelanggan yang kurang berharga, dan meningkatkan pengalaman pelanggan secara keseluruhan.\n",
    "\n",
    "Perusahaan Asuransi Mobil menghadapi masalah dalam mempertahankan pelanggannya dan ingin mengiklankan penawaran promosi untuk pelanggan setianya. Mereka mempertimbangkan CLV sebagai parameter untuk mengklasifikasikan pelanggan setia."
   ]
  },
  {
   "cell_type": "markdown",
   "id": "62500269-f173-45a6-a94a-46c443c2a353",
   "metadata": {},
   "source": [
    "### Goals\n",
    "Meningkatkan pendapatan perusahaan dari pertambahan pelanggan yang menggunakan jasa asuransi dari perusahaan kami. Dengan cara memprediksi Customer Lifetime Value dengan menggunakan machine learning"
   ]
  },
  {
   "cell_type": "markdown",
   "id": "93e3cd30-5234-45de-b8b5-97fbfce2f7d8",
   "metadata": {},
   "source": [
    "### Evaluation Metrics\n",
    "Dengan menggunakan model RMSE dan R2 Score. Lalu membandingkan model RMSE dan R2 Score dan memilih model terbaik "
   ]
  },
  {
   "cell_type": "markdown",
   "id": "456a8918-5db0-4df3-9a8e-5d05a92a808c",
   "metadata": {},
   "source": [
    "**Attributes Information**\n",
    "\n",
    "| **Attribute** | **Data Type** | **Description** |\n",
    "| --- | --- | --- |\n",
    "| Vehicle Class | Object | Tipe Mobil |\n",
    "| Coverage | Object | Jenis Asuransi |\n",
    "| Renew Offer Type | Object | Jenis Polis |\n",
    "| Employment Status | Object | Status Pekerjaan |\n",
    "| Marital Status | Object | Status Nikah |\n",
    "| Education | Object | Pendidikan Terakhir |\n",
    "| Number of Policies | Integer | Nomor Polis  |\n",
    "| Monthly Premium Auto | Interger | Jumlah Bulan yang sudah dibayar |\n",
    "| Total Claim Amount | Float | Total yang sudah di ambil |\n",
    "| Income | Integer | Penghasilan |\n",
    "| Customer Lifetime Value | Float | Nilai Umur Pelanggan |\n",
    "\n",
    "<br>"
   ]
  },
  {
   "cell_type": "markdown",
   "id": "cb377b1c-2831-4a95-90fc-5358b2d8b5d3",
   "metadata": {},
   "source": [
    "### Import Libraries"
   ]
  },
  {
   "cell_type": "code",
   "execution_count": 143,
   "id": "a2436181-a80d-426e-b068-84d97d213c58",
   "metadata": {
    "tags": []
   },
   "outputs": [],
   "source": [
    "import pandas as pd\n",
    "from scipy.stats import shapiro\n",
    "import matplotlib.pyplot as plt\n",
    "import seaborn as sns\n",
    "import numpy as np\n",
    "import statsmodels.api as sm\n",
    "import warnings\n",
    "warnings.filterwarnings('ignore')\n",
    "\n",
    "from sklearn.pipeline import Pipeline\n",
    "from sklearn.impute import SimpleImputer, KNNImputer\n",
    "from sklearn.preprocessing import RobustScaler, PowerTransformer, PolynomialFeatures, OneHotEncoder\n",
    "from sklearn.compose import ColumnTransformer\n",
    "from sklearn.ensemble import RandomForestRegressor\n",
    "from sklearn.model_selection import  train_test_split, GridSearchCV, RandomizedSearchCV, cross_val_score\n",
    "from sklearn.metrics import r2_score, mean_absolute_error, mean_squared_error, mean_absolute_percentage_error\n",
    "from sklearn.neighbors import KNeighborsRegressor\n",
    "from sklearn.linear_model import LinearRegression\n",
    "from sklearn.tree import DecisionTreeRegressor\n",
    "from xgboost import XGBRegressor\n",
    "from sklearn.linear_model import Ridge, Lasso\n",
    "from sklearn.ensemble import AdaBoostRegressor"
   ]
  },
  {
   "cell_type": "code",
   "execution_count": 2,
   "id": "f40bf660-599b-48ff-a027-d552c4c07bc1",
   "metadata": {},
   "outputs": [
    {
     "data": {
      "text/html": [
       "<div>\n",
       "<style scoped>\n",
       "    .dataframe tbody tr th:only-of-type {\n",
       "        vertical-align: middle;\n",
       "    }\n",
       "\n",
       "    .dataframe tbody tr th {\n",
       "        vertical-align: top;\n",
       "    }\n",
       "\n",
       "    .dataframe thead th {\n",
       "        text-align: right;\n",
       "    }\n",
       "</style>\n",
       "<table border=\"1\" class=\"dataframe\">\n",
       "  <thead>\n",
       "    <tr style=\"text-align: right;\">\n",
       "      <th></th>\n",
       "      <th>Vehicle Class</th>\n",
       "      <th>Coverage</th>\n",
       "      <th>Renew Offer Type</th>\n",
       "      <th>EmploymentStatus</th>\n",
       "      <th>Marital Status</th>\n",
       "      <th>Education</th>\n",
       "      <th>Number of Policies</th>\n",
       "      <th>Monthly Premium Auto</th>\n",
       "      <th>Total Claim Amount</th>\n",
       "      <th>Income</th>\n",
       "      <th>Customer Lifetime Value</th>\n",
       "    </tr>\n",
       "  </thead>\n",
       "  <tbody>\n",
       "    <tr>\n",
       "      <th>0</th>\n",
       "      <td>Four-Door Car</td>\n",
       "      <td>Extended</td>\n",
       "      <td>Offer1</td>\n",
       "      <td>Retired</td>\n",
       "      <td>Divorced</td>\n",
       "      <td>High School or Below</td>\n",
       "      <td>2</td>\n",
       "      <td>90</td>\n",
       "      <td>571.479602</td>\n",
       "      <td>11828</td>\n",
       "      <td>10083.486880</td>\n",
       "    </tr>\n",
       "    <tr>\n",
       "      <th>1</th>\n",
       "      <td>Four-Door Car</td>\n",
       "      <td>Basic</td>\n",
       "      <td>Offer1</td>\n",
       "      <td>Employed</td>\n",
       "      <td>Married</td>\n",
       "      <td>College</td>\n",
       "      <td>6</td>\n",
       "      <td>62</td>\n",
       "      <td>114.514440</td>\n",
       "      <td>44762</td>\n",
       "      <td>4943.386117</td>\n",
       "    </tr>\n",
       "    <tr>\n",
       "      <th>2</th>\n",
       "      <td>Two-Door Car</td>\n",
       "      <td>Basic</td>\n",
       "      <td>Offer1</td>\n",
       "      <td>Retired</td>\n",
       "      <td>Married</td>\n",
       "      <td>Master</td>\n",
       "      <td>2</td>\n",
       "      <td>62</td>\n",
       "      <td>257.248789</td>\n",
       "      <td>21514</td>\n",
       "      <td>11981.984810</td>\n",
       "    </tr>\n",
       "    <tr>\n",
       "      <th>3</th>\n",
       "      <td>Four-Door Car</td>\n",
       "      <td>Premium</td>\n",
       "      <td>Offer3</td>\n",
       "      <td>Disabled</td>\n",
       "      <td>Married</td>\n",
       "      <td>High School or Below</td>\n",
       "      <td>1</td>\n",
       "      <td>116</td>\n",
       "      <td>556.800000</td>\n",
       "      <td>17913</td>\n",
       "      <td>4550.856045</td>\n",
       "    </tr>\n",
       "    <tr>\n",
       "      <th>4</th>\n",
       "      <td>Two-Door Car</td>\n",
       "      <td>Basic</td>\n",
       "      <td>Offer3</td>\n",
       "      <td>Medical Leave</td>\n",
       "      <td>Married</td>\n",
       "      <td>High School or Below</td>\n",
       "      <td>1</td>\n",
       "      <td>62</td>\n",
       "      <td>355.820799</td>\n",
       "      <td>19030</td>\n",
       "      <td>2372.155492</td>\n",
       "    </tr>\n",
       "    <tr>\n",
       "      <th>...</th>\n",
       "      <td>...</td>\n",
       "      <td>...</td>\n",
       "      <td>...</td>\n",
       "      <td>...</td>\n",
       "      <td>...</td>\n",
       "      <td>...</td>\n",
       "      <td>...</td>\n",
       "      <td>...</td>\n",
       "      <td>...</td>\n",
       "      <td>...</td>\n",
       "      <td>...</td>\n",
       "    </tr>\n",
       "    <tr>\n",
       "      <th>5664</th>\n",
       "      <td>Four-Door Car</td>\n",
       "      <td>Basic</td>\n",
       "      <td>Offer4</td>\n",
       "      <td>Unemployed</td>\n",
       "      <td>Single</td>\n",
       "      <td>High School or Below</td>\n",
       "      <td>1</td>\n",
       "      <td>74</td>\n",
       "      <td>532.800000</td>\n",
       "      <td>0</td>\n",
       "      <td>2442.216651</td>\n",
       "    </tr>\n",
       "    <tr>\n",
       "      <th>5665</th>\n",
       "      <td>Four-Door Car</td>\n",
       "      <td>Premium</td>\n",
       "      <td>Offer1</td>\n",
       "      <td>Employed</td>\n",
       "      <td>Divorced</td>\n",
       "      <td>Bachelor</td>\n",
       "      <td>2</td>\n",
       "      <td>109</td>\n",
       "      <td>523.200000</td>\n",
       "      <td>27778</td>\n",
       "      <td>12904.943360</td>\n",
       "    </tr>\n",
       "    <tr>\n",
       "      <th>5666</th>\n",
       "      <td>Four-Door Car</td>\n",
       "      <td>Basic</td>\n",
       "      <td>Offer1</td>\n",
       "      <td>Employed</td>\n",
       "      <td>Single</td>\n",
       "      <td>Bachelor</td>\n",
       "      <td>1</td>\n",
       "      <td>62</td>\n",
       "      <td>44.780402</td>\n",
       "      <td>84658</td>\n",
       "      <td>2447.053134</td>\n",
       "    </tr>\n",
       "    <tr>\n",
       "      <th>5667</th>\n",
       "      <td>Luxury SUV</td>\n",
       "      <td>Extended</td>\n",
       "      <td>Offer2</td>\n",
       "      <td>Employed</td>\n",
       "      <td>Divorced</td>\n",
       "      <td>Master</td>\n",
       "      <td>7</td>\n",
       "      <td>239</td>\n",
       "      <td>1294.700423</td>\n",
       "      <td>22705</td>\n",
       "      <td>19160.989940</td>\n",
       "    </tr>\n",
       "    <tr>\n",
       "      <th>5668</th>\n",
       "      <td>Luxury SUV</td>\n",
       "      <td>Basic</td>\n",
       "      <td>Offer2</td>\n",
       "      <td>Employed</td>\n",
       "      <td>Divorced</td>\n",
       "      <td>College</td>\n",
       "      <td>1</td>\n",
       "      <td>199</td>\n",
       "      <td>161.615740</td>\n",
       "      <td>60184</td>\n",
       "      <td>7664.219255</td>\n",
       "    </tr>\n",
       "  </tbody>\n",
       "</table>\n",
       "<p>5669 rows × 11 columns</p>\n",
       "</div>"
      ],
      "text/plain": [
       "      Vehicle Class  Coverage Renew Offer Type EmploymentStatus  \\\n",
       "0     Four-Door Car  Extended           Offer1          Retired   \n",
       "1     Four-Door Car     Basic           Offer1         Employed   \n",
       "2      Two-Door Car     Basic           Offer1          Retired   \n",
       "3     Four-Door Car   Premium           Offer3         Disabled   \n",
       "4      Two-Door Car     Basic           Offer3    Medical Leave   \n",
       "...             ...       ...              ...              ...   \n",
       "5664  Four-Door Car     Basic           Offer4       Unemployed   \n",
       "5665  Four-Door Car   Premium           Offer1         Employed   \n",
       "5666  Four-Door Car     Basic           Offer1         Employed   \n",
       "5667     Luxury SUV  Extended           Offer2         Employed   \n",
       "5668     Luxury SUV     Basic           Offer2         Employed   \n",
       "\n",
       "     Marital Status             Education  Number of Policies  \\\n",
       "0          Divorced  High School or Below                   2   \n",
       "1           Married               College                   6   \n",
       "2           Married                Master                   2   \n",
       "3           Married  High School or Below                   1   \n",
       "4           Married  High School or Below                   1   \n",
       "...             ...                   ...                 ...   \n",
       "5664         Single  High School or Below                   1   \n",
       "5665       Divorced              Bachelor                   2   \n",
       "5666         Single              Bachelor                   1   \n",
       "5667       Divorced                Master                   7   \n",
       "5668       Divorced               College                   1   \n",
       "\n",
       "      Monthly Premium Auto  Total Claim Amount  Income  \\\n",
       "0                       90          571.479602   11828   \n",
       "1                       62          114.514440   44762   \n",
       "2                       62          257.248789   21514   \n",
       "3                      116          556.800000   17913   \n",
       "4                       62          355.820799   19030   \n",
       "...                    ...                 ...     ...   \n",
       "5664                    74          532.800000       0   \n",
       "5665                   109          523.200000   27778   \n",
       "5666                    62           44.780402   84658   \n",
       "5667                   239         1294.700423   22705   \n",
       "5668                   199          161.615740   60184   \n",
       "\n",
       "      Customer Lifetime Value  \n",
       "0                10083.486880  \n",
       "1                 4943.386117  \n",
       "2                11981.984810  \n",
       "3                 4550.856045  \n",
       "4                 2372.155492  \n",
       "...                       ...  \n",
       "5664              2442.216651  \n",
       "5665             12904.943360  \n",
       "5666              2447.053134  \n",
       "5667             19160.989940  \n",
       "5668              7664.219255  \n",
       "\n",
       "[5669 rows x 11 columns]"
      ]
     },
     "execution_count": 2,
     "metadata": {},
     "output_type": "execute_result"
    }
   ],
   "source": [
    "df = pd.read_csv('data_customer_lifetime_value.csv')\n",
    "df"
   ]
  },
  {
   "cell_type": "code",
   "execution_count": 5,
   "id": "d264113c-2f73-4eac-b7ca-7e1ecda444c1",
   "metadata": {},
   "outputs": [
    {
     "name": "stdout",
     "output_type": "stream",
     "text": [
      "The number of rows: 5669\n",
      "The number of columns: 11\n"
     ]
    }
   ],
   "source": [
    "print(\"The number of rows:\",df.shape[0])\n",
    "print(\"The number of columns:\",df.shape[1])"
   ]
  },
  {
   "cell_type": "code",
   "execution_count": 6,
   "id": "c2bc4bc5-b527-40f1-9115-a85e98379f41",
   "metadata": {},
   "outputs": [],
   "source": [
    "df.rename(columns={'Customer Lifetime Value':'CLV'},inplace=True)"
   ]
  },
  {
   "cell_type": "code",
   "execution_count": 7,
   "id": "ce7f0658-65c5-493f-a499-fc2e278792a4",
   "metadata": {},
   "outputs": [
    {
     "name": "stdout",
     "output_type": "stream",
     "text": [
      "<class 'pandas.core.frame.DataFrame'>\n",
      "RangeIndex: 5669 entries, 0 to 5668\n",
      "Data columns (total 11 columns):\n",
      " #   Column                Non-Null Count  Dtype  \n",
      "---  ------                --------------  -----  \n",
      " 0   Vehicle Class         5669 non-null   object \n",
      " 1   Coverage              5669 non-null   object \n",
      " 2   Renew Offer Type      5669 non-null   object \n",
      " 3   EmploymentStatus      5669 non-null   object \n",
      " 4   Marital Status        5669 non-null   object \n",
      " 5   Education             5669 non-null   object \n",
      " 6   Number of Policies    5669 non-null   int64  \n",
      " 7   Monthly Premium Auto  5669 non-null   int64  \n",
      " 8   Total Claim Amount    5669 non-null   float64\n",
      " 9   Income                5669 non-null   int64  \n",
      " 10  CLV                   5669 non-null   float64\n",
      "dtypes: float64(2), int64(3), object(6)\n",
      "memory usage: 487.3+ KB\n"
     ]
    }
   ],
   "source": [
    "df.info()"
   ]
  },
  {
   "cell_type": "markdown",
   "id": "1522b32f-05a0-44ab-a4dc-1697ba780ba2",
   "metadata": {
    "tags": []
   },
   "source": [
    "### Summary Statistics of Numerical features"
   ]
  },
  {
   "cell_type": "code",
   "execution_count": 12,
   "id": "805671aa-35ba-4136-83a9-aaea53bb6360",
   "metadata": {},
   "outputs": [],
   "source": [
    "numerical_cols = df.select_dtypes(include=[\"int64\",\"float64\"])"
   ]
  },
  {
   "cell_type": "code",
   "execution_count": 13,
   "id": "184f80d1-5d9c-4933-9645-9493f4dae667",
   "metadata": {},
   "outputs": [
    {
     "data": {
      "text/html": [
       "<div>\n",
       "<style scoped>\n",
       "    .dataframe tbody tr th:only-of-type {\n",
       "        vertical-align: middle;\n",
       "    }\n",
       "\n",
       "    .dataframe tbody tr th {\n",
       "        vertical-align: top;\n",
       "    }\n",
       "\n",
       "    .dataframe thead th {\n",
       "        text-align: right;\n",
       "    }\n",
       "</style>\n",
       "<table border=\"1\" class=\"dataframe\">\n",
       "  <thead>\n",
       "    <tr style=\"text-align: right;\">\n",
       "      <th></th>\n",
       "      <th>Number of Policies</th>\n",
       "      <th>Monthly Premium Auto</th>\n",
       "      <th>Total Claim Amount</th>\n",
       "      <th>Income</th>\n",
       "      <th>CLV</th>\n",
       "    </tr>\n",
       "  </thead>\n",
       "  <tbody>\n",
       "    <tr>\n",
       "      <th>count</th>\n",
       "      <td>5669.000000</td>\n",
       "      <td>5669.000000</td>\n",
       "      <td>5669.000000</td>\n",
       "      <td>5669.000000</td>\n",
       "      <td>5669.000000</td>\n",
       "    </tr>\n",
       "    <tr>\n",
       "      <th>mean</th>\n",
       "      <td>2.979361</td>\n",
       "      <td>93.026989</td>\n",
       "      <td>431.407103</td>\n",
       "      <td>37868.188569</td>\n",
       "      <td>8029.874592</td>\n",
       "    </tr>\n",
       "    <tr>\n",
       "      <th>std</th>\n",
       "      <td>2.393187</td>\n",
       "      <td>34.551795</td>\n",
       "      <td>287.558038</td>\n",
       "      <td>30490.490723</td>\n",
       "      <td>6916.708246</td>\n",
       "    </tr>\n",
       "    <tr>\n",
       "      <th>min</th>\n",
       "      <td>1.000000</td>\n",
       "      <td>61.000000</td>\n",
       "      <td>0.423310</td>\n",
       "      <td>0.000000</td>\n",
       "      <td>1898.007675</td>\n",
       "    </tr>\n",
       "    <tr>\n",
       "      <th>25%</th>\n",
       "      <td>1.000000</td>\n",
       "      <td>68.000000</td>\n",
       "      <td>266.932542</td>\n",
       "      <td>0.000000</td>\n",
       "      <td>3954.344534</td>\n",
       "    </tr>\n",
       "    <tr>\n",
       "      <th>50%</th>\n",
       "      <td>2.000000</td>\n",
       "      <td>82.000000</td>\n",
       "      <td>379.200000</td>\n",
       "      <td>34322.000000</td>\n",
       "      <td>5800.188903</td>\n",
       "    </tr>\n",
       "    <tr>\n",
       "      <th>75%</th>\n",
       "      <td>4.000000</td>\n",
       "      <td>109.000000</td>\n",
       "      <td>549.986128</td>\n",
       "      <td>62464.000000</td>\n",
       "      <td>9031.214859</td>\n",
       "    </tr>\n",
       "    <tr>\n",
       "      <th>max</th>\n",
       "      <td>9.000000</td>\n",
       "      <td>297.000000</td>\n",
       "      <td>2759.794354</td>\n",
       "      <td>99934.000000</td>\n",
       "      <td>83325.381190</td>\n",
       "    </tr>\n",
       "  </tbody>\n",
       "</table>\n",
       "</div>"
      ],
      "text/plain": [
       "       Number of Policies  Monthly Premium Auto  Total Claim Amount  \\\n",
       "count         5669.000000           5669.000000         5669.000000   \n",
       "mean             2.979361             93.026989          431.407103   \n",
       "std              2.393187             34.551795          287.558038   \n",
       "min              1.000000             61.000000            0.423310   \n",
       "25%              1.000000             68.000000          266.932542   \n",
       "50%              2.000000             82.000000          379.200000   \n",
       "75%              4.000000            109.000000          549.986128   \n",
       "max              9.000000            297.000000         2759.794354   \n",
       "\n",
       "             Income           CLV  \n",
       "count   5669.000000   5669.000000  \n",
       "mean   37868.188569   8029.874592  \n",
       "std    30490.490723   6916.708246  \n",
       "min        0.000000   1898.007675  \n",
       "25%        0.000000   3954.344534  \n",
       "50%    34322.000000   5800.188903  \n",
       "75%    62464.000000   9031.214859  \n",
       "max    99934.000000  83325.381190  "
      ]
     },
     "execution_count": 13,
     "metadata": {},
     "output_type": "execute_result"
    }
   ],
   "source": [
    "numerical_cols.describe()"
   ]
  },
  {
   "cell_type": "markdown",
   "id": "a7a30521-2351-4269-8e1d-f6e14c4b1afb",
   "metadata": {},
   "source": [
    "### Check Missing Values"
   ]
  },
  {
   "cell_type": "code",
   "execution_count": 14,
   "id": "287c5045-b4e3-40a8-aee4-637693c53289",
   "metadata": {},
   "outputs": [
    {
     "data": {
      "text/plain": [
       "Vehicle Class           0\n",
       "Coverage                0\n",
       "Renew Offer Type        0\n",
       "EmploymentStatus        0\n",
       "Marital Status          0\n",
       "Education               0\n",
       "Number of Policies      0\n",
       "Monthly Premium Auto    0\n",
       "Total Claim Amount      0\n",
       "Income                  0\n",
       "CLV                     0\n",
       "dtype: int64"
      ]
     },
     "execution_count": 14,
     "metadata": {},
     "output_type": "execute_result"
    }
   ],
   "source": [
    "df.isnull().sum()"
   ]
  },
  {
   "cell_type": "markdown",
   "id": "a043b687-d216-4c13-a71a-3b18d3814baa",
   "metadata": {},
   "source": [
    "## EDA\n",
    "## Numerical Features\n",
    "### CLV - Target variable analysis"
   ]
  },
  {
   "cell_type": "code",
   "execution_count": 15,
   "id": "00340f72-2185-45ba-97d3-fe81c018649b",
   "metadata": {
    "tags": []
   },
   "outputs": [
    {
     "data": {
      "image/png": "[encoded data removed]",
      "text/plain": [
       "<Figure size 432x288 with 1 Axes>"
      ]
     },
     "metadata": {
      "needs_background": "light"
     },
     "output_type": "display_data"
    }
   ],
   "source": [
    "sns.distplot(df[\"CLV\"])\n",
    "# plt.savefig(\"CLV.png\")\n",
    "plt.show()"
   ]
  },
  {
   "cell_type": "code",
   "execution_count": 16,
   "id": "1b9bd961-16b8-4a09-9047-41ba831dbb9a",
   "metadata": {},
   "outputs": [
    {
     "data": {
      "image/png": "[encoded data removed]",
      "text/plain": [
       "<Figure size 432x288 with 1 Axes>"
      ]
     },
     "metadata": {
      "needs_background": "light"
     },
     "output_type": "display_data"
    }
   ],
   "source": [
    "sns.boxplot(df[\"CLV\"])\n",
    "plt.show()"
   ]
  },
  {
   "cell_type": "code",
   "execution_count": 17,
   "id": "09758e31-2fd4-4ce0-9d68-62327981cdb7",
   "metadata": {},
   "outputs": [
    {
     "data": {
      "text/plain": [
       "3.06110718900048"
      ]
     },
     "execution_count": 17,
     "metadata": {},
     "output_type": "execute_result"
    }
   ],
   "source": [
    "df[\"CLV\"].skew()"
   ]
  },
  {
   "cell_type": "markdown",
   "id": "090f7f47-ec8e-4a51-bd01-cf6d785b50f4",
   "metadata": {},
   "source": [
    "## INCOME\n",
    "#### Uninvariate Analysis"
   ]
  },
  {
   "cell_type": "code",
   "execution_count": 19,
   "id": "17ff9e26-4a2e-4b4c-94f8-1515b0b67668",
   "metadata": {},
   "outputs": [
    {
     "data": {
      "image/png": "[encoded data removed]",
      "text/plain": [
       "<Figure size 432x288 with 1 Axes>"
      ]
     },
     "metadata": {
      "needs_background": "light"
     },
     "output_type": "display_data"
    }
   ],
   "source": [
    "sns.distplot(df[\"Income\"])\n",
    "plt.show()"
   ]
  },
  {
   "cell_type": "markdown",
   "id": "45ce7002-49a3-48d0-b914-b7d12dc31597",
   "metadata": {},
   "source": [
    "#### Bivariate Analysis"
   ]
  },
  {
   "cell_type": "code",
   "execution_count": 20,
   "id": "58c35e7f-25b6-4eaa-8730-6afe60f23450",
   "metadata": {},
   "outputs": [
    {
     "data": {
      "image/png": "[encoded data removed]",
      "text/plain": [
       "<Figure size 432x288 with 1 Axes>"
      ]
     },
     "metadata": {
      "needs_background": "light"
     },
     "output_type": "display_data"
    }
   ],
   "source": [
    "sns.scatterplot(df[\"Income\"],df[\"CLV\"])\n",
    "plt.show()"
   ]
  },
  {
   "cell_type": "markdown",
   "id": "41363bae-8b49-4502-9f45-555870cfd0c5",
   "metadata": {
    "tags": []
   },
   "source": [
    "##### Mempunyai hubungan linear antara Income dan CLV"
   ]
  },
  {
   "cell_type": "markdown",
   "id": "c5cb434a-9de3-49e6-a274-72cbab934d82",
   "metadata": {
    "tags": []
   },
   "source": [
    "#### Monthly Premium Auto"
   ]
  },
  {
   "cell_type": "code",
   "execution_count": 21,
   "id": "471a8226-5297-45a6-9f62-725a34c8c4d9",
   "metadata": {},
   "outputs": [
    {
     "data": {
      "image/png": "[encoded data removed]",
      "text/plain": [
       "<Figure size 432x288 with 1 Axes>"
      ]
     },
     "metadata": {
      "needs_background": "light"
     },
     "output_type": "display_data"
    }
   ],
   "source": [
    "sns.distplot(df[\"Monthly Premium Auto\"],color='c')\n",
    "plt.show()"
   ]
  },
  {
   "cell_type": "code",
   "execution_count": 22,
   "id": "8d2b8ede-175e-40c0-8a5b-180cfb2c4ce3",
   "metadata": {},
   "outputs": [
    {
     "data": {
      "image/png": "[encoded data removed]",
      "text/plain": [
       "<Figure size 432x288 with 1 Axes>"
      ]
     },
     "metadata": {
      "needs_background": "light"
     },
     "output_type": "display_data"
    }
   ],
   "source": [
    "sns.boxplot(df[\"Monthly Premium Auto\"],color='c')\n",
    "plt.show()"
   ]
  },
  {
   "cell_type": "code",
   "execution_count": 24,
   "id": "1a9fd4e3-c4cd-4b8f-8ae3-389e3f0f56b0",
   "metadata": {},
   "outputs": [
    {
     "data": {
      "image/png": "[encoded data removed]",
      "text/plain": [
       "<Figure size 432x288 with 1 Axes>"
      ]
     },
     "metadata": {
      "needs_background": "light"
     },
     "output_type": "display_data"
    }
   ],
   "source": [
    "sns.scatterplot(df[\"Monthly Premium Auto\"],df[\"CLV\"],color='g')\n",
    "plt.show()"
   ]
  },
  {
   "cell_type": "markdown",
   "id": "2a00b613-a455-48e1-aaac-8b96d24be076",
   "metadata": {},
   "source": [
    "##### Mempunyai Hubungan Linear antara Monthly Premium Auto dan CLV"
   ]
  },
  {
   "cell_type": "code",
   "execution_count": 32,
   "id": "8bb51bab-6313-41a1-8314-66b459e3bf62",
   "metadata": {},
   "outputs": [
    {
     "data": {
      "image/png": "[encoded data removed]",
      "text/plain": [
       "<Figure size 432x288 with 1 Axes>"
      ]
     },
     "metadata": {
      "needs_background": "light"
     },
     "output_type": "display_data"
    }
   ],
   "source": [
    "sns.distplot(df['Total Claim Amount'])\n",
    "plt.show()"
   ]
  },
  {
   "cell_type": "code",
   "execution_count": 30,
   "id": "14713107-ccb0-46e2-945d-af5cb366667e",
   "metadata": {},
   "outputs": [
    {
     "data": {
      "image/png": "[encoded data removed]",
      "text/plain": [
       "<Figure size 432x288 with 1 Axes>"
      ]
     },
     "metadata": {
      "needs_background": "light"
     },
     "output_type": "display_data"
    }
   ],
   "source": [
    "sns.boxplot(df[\"Total Claim Amount\"])\n",
    "plt.show()"
   ]
  },
  {
   "cell_type": "code",
   "execution_count": 31,
   "id": "8eac3902-a2f1-4961-847d-45e41bab6cf4",
   "metadata": {},
   "outputs": [
    {
     "data": {
      "image/png": "[encoded data removed]",
      "text/plain": [
       "<Figure size 432x288 with 1 Axes>"
      ]
     },
     "metadata": {
      "needs_background": "light"
     },
     "output_type": "display_data"
    }
   ],
   "source": [
    "sns.scatterplot(df[\"Total Claim Amount\"],df[\"CLV\"],color='c')\n",
    "plt.show()"
   ]
  },
  {
   "cell_type": "markdown",
   "id": "9f17c40f-860e-4c88-80ff-f7dd9e31ed19",
   "metadata": {},
   "source": [
    "##### There is a linear relationship between CLV and Total Claim Amount\n",
    "\n",
    "##### The monthly premium auto and income feature has multiple peak's so to remove those peaks we can apply any of the power transformation (SQUARE / CUBE)"
   ]
  },
  {
   "cell_type": "markdown",
   "id": "83fee499-78e8-4365-9087-882d1116e711",
   "metadata": {},
   "source": [
    "## Categorical variables"
   ]
  },
  {
   "cell_type": "code",
   "execution_count": 53,
   "id": "5c832798-aff5-4c48-bb46-c6bd802dd09f",
   "metadata": {},
   "outputs": [],
   "source": [
    "cat_cols = df.select_dtypes(include=\"object\")"
   ]
  },
  {
   "cell_type": "code",
   "execution_count": 54,
   "id": "802a40b3-3e7d-40b9-a37f-534503a3469c",
   "metadata": {},
   "outputs": [],
   "source": [
    "no_col = df[\"Number of Policies\"]"
   ]
  },
  {
   "cell_type": "code",
   "execution_count": 55,
   "id": "7c508e65-d99d-476d-a37b-f494d3b6d516",
   "metadata": {},
   "outputs": [],
   "source": [
    "cat_cols = pd.concat([cat_cols,no_col],axis=1)"
   ]
  },
  {
   "cell_type": "code",
   "execution_count": 57,
   "id": "b900d390-81b4-42bf-a541-4b715f002be5",
   "metadata": {},
   "outputs": [
    {
     "data": {
      "text/html": [
       "<div>\n",
       "<style scoped>\n",
       "    .dataframe tbody tr th:only-of-type {\n",
       "        vertical-align: middle;\n",
       "    }\n",
       "\n",
       "    .dataframe tbody tr th {\n",
       "        vertical-align: top;\n",
       "    }\n",
       "\n",
       "    .dataframe thead th {\n",
       "        text-align: right;\n",
       "    }\n",
       "</style>\n",
       "<table border=\"1\" class=\"dataframe\">\n",
       "  <thead>\n",
       "    <tr style=\"text-align: right;\">\n",
       "      <th></th>\n",
       "      <th>Vehicle Class</th>\n",
       "      <th>Coverage</th>\n",
       "      <th>Renew Offer Type</th>\n",
       "      <th>EmploymentStatus</th>\n",
       "      <th>Marital Status</th>\n",
       "      <th>Education</th>\n",
       "      <th>Number of Policies</th>\n",
       "    </tr>\n",
       "  </thead>\n",
       "  <tbody>\n",
       "    <tr>\n",
       "      <th>0</th>\n",
       "      <td>Four-Door Car</td>\n",
       "      <td>Extended</td>\n",
       "      <td>Offer1</td>\n",
       "      <td>Retired</td>\n",
       "      <td>Divorced</td>\n",
       "      <td>High School or Below</td>\n",
       "      <td>2</td>\n",
       "    </tr>\n",
       "    <tr>\n",
       "      <th>1</th>\n",
       "      <td>Four-Door Car</td>\n",
       "      <td>Basic</td>\n",
       "      <td>Offer1</td>\n",
       "      <td>Employed</td>\n",
       "      <td>Married</td>\n",
       "      <td>College</td>\n",
       "      <td>6</td>\n",
       "    </tr>\n",
       "    <tr>\n",
       "      <th>2</th>\n",
       "      <td>Two-Door Car</td>\n",
       "      <td>Basic</td>\n",
       "      <td>Offer1</td>\n",
       "      <td>Retired</td>\n",
       "      <td>Married</td>\n",
       "      <td>Master</td>\n",
       "      <td>2</td>\n",
       "    </tr>\n",
       "    <tr>\n",
       "      <th>3</th>\n",
       "      <td>Four-Door Car</td>\n",
       "      <td>Premium</td>\n",
       "      <td>Offer3</td>\n",
       "      <td>Disabled</td>\n",
       "      <td>Married</td>\n",
       "      <td>High School or Below</td>\n",
       "      <td>1</td>\n",
       "    </tr>\n",
       "    <tr>\n",
       "      <th>4</th>\n",
       "      <td>Two-Door Car</td>\n",
       "      <td>Basic</td>\n",
       "      <td>Offer3</td>\n",
       "      <td>Medical Leave</td>\n",
       "      <td>Married</td>\n",
       "      <td>High School or Below</td>\n",
       "      <td>1</td>\n",
       "    </tr>\n",
       "  </tbody>\n",
       "</table>\n",
       "</div>"
      ],
      "text/plain": [
       "   Vehicle Class  Coverage Renew Offer Type EmploymentStatus Marital Status  \\\n",
       "0  Four-Door Car  Extended           Offer1          Retired       Divorced   \n",
       "1  Four-Door Car     Basic           Offer1         Employed        Married   \n",
       "2   Two-Door Car     Basic           Offer1          Retired        Married   \n",
       "3  Four-Door Car   Premium           Offer3         Disabled        Married   \n",
       "4   Two-Door Car     Basic           Offer3    Medical Leave        Married   \n",
       "\n",
       "              Education  Number of Policies  \n",
       "0  High School or Below                   2  \n",
       "1               College                   6  \n",
       "2                Master                   2  \n",
       "3  High School or Below                   1  \n",
       "4  High School or Below                   1  "
      ]
     },
     "execution_count": 57,
     "metadata": {},
     "output_type": "execute_result"
    }
   ],
   "source": [
    "cat_cols.head()"
   ]
  },
  {
   "cell_type": "code",
   "execution_count": 58,
   "id": "5b63cf40-805a-4208-8b69-5e78d891fe6d",
   "metadata": {
    "tags": []
   },
   "outputs": [
    {
     "data": {
      "text/plain": [
       "Index(['Vehicle Class', 'Coverage', 'Renew Offer Type', 'EmploymentStatus',\n",
       "       'Marital Status', 'Education', 'Number of Policies'],\n",
       "      dtype='object')"
      ]
     },
     "execution_count": 58,
     "metadata": {},
     "output_type": "execute_result"
    }
   ],
   "source": [
    "cat_cols.columns"
   ]
  },
  {
   "cell_type": "code",
   "execution_count": 59,
   "id": "4a3b2c51-0247-41cf-9633-5656e2efe6d5",
   "metadata": {},
   "outputs": [
    {
     "name": "stdout",
     "output_type": "stream",
     "text": [
      "Unique values in Vehicle Class is 6\n",
      "Four-Door Car    2858\n",
      "Two-Door Car     1186\n",
      "SUV              1096\n",
      "Sports Car        307\n",
      "Luxury SUV        115\n",
      "Luxury Car        107\n",
      "Name: Vehicle Class, dtype: int64\n",
      "-----------------------------------------\n",
      "Unique values in Coverage is 3\n",
      "Basic       3477\n",
      "Extended    1704\n",
      "Premium      488\n",
      "Name: Coverage, dtype: int64\n",
      "-----------------------------------------\n",
      "Unique values in Renew Offer Type is 4\n",
      "Offer1    2292\n",
      "Offer2    1835\n",
      "Offer3     900\n",
      "Offer4     642\n",
      "Name: Renew Offer Type, dtype: int64\n",
      "-----------------------------------------\n",
      "Unique values in EmploymentStatus is 5\n",
      "Employed         3541\n",
      "Unemployed       1429\n",
      "Medical Leave     267\n",
      "Disabled          252\n",
      "Retired           180\n",
      "Name: EmploymentStatus, dtype: int64\n",
      "-----------------------------------------\n",
      "Unique values in Marital Status is 3\n",
      "Married     3305\n",
      "Single      1514\n",
      "Divorced     850\n",
      "Name: Marital Status, dtype: int64\n",
      "-----------------------------------------\n",
      "Unique values in Education is 5\n",
      "Bachelor                1703\n",
      "College                 1660\n",
      "High School or Below    1620\n",
      "Master                   460\n",
      "Doctor                   226\n",
      "Name: Education, dtype: int64\n",
      "-----------------------------------------\n",
      "Unique values in Number of Policies is 9\n",
      "1    2008\n",
      "2    1413\n",
      "3     727\n",
      "7     271\n",
      "5     270\n",
      "9     264\n",
      "4     251\n",
      "6     236\n",
      "8     229\n",
      "Name: Number of Policies, dtype: int64\n",
      "-----------------------------------------\n"
     ]
    }
   ],
   "source": [
    "for i in cat_cols:\n",
    "    print(\"Unique values in\",str(i),\"is\",df[i].nunique())\n",
    "    print(df[i].value_counts())\n",
    "    print(\"-----------------------------------------\")"
   ]
  },
  {
   "cell_type": "markdown",
   "id": "60308e9d-ed9a-4a20-a08d-6325786b53b8",
   "metadata": {
    "tags": []
   },
   "source": [
    "### Vehicle Class"
   ]
  },
  {
   "cell_type": "code",
   "execution_count": 34,
   "id": "d5b2db20-e9c3-4d60-a447-cfa57715cc3f",
   "metadata": {},
   "outputs": [
    {
     "data": {
      "image/png": "[encoded data removed]",
      "text/plain": [
       "<Figure size 432x288 with 1 Axes>"
      ]
     },
     "metadata": {
      "needs_background": "light"
     },
     "output_type": "display_data"
    }
   ],
   "source": [
    "sns.countplot(df[\"Vehicle Class\"])\n",
    "plt.show()"
   ]
  },
  {
   "cell_type": "code",
   "execution_count": 35,
   "id": "191f467a-2355-48ae-985f-aa9a18fa40a0",
   "metadata": {},
   "outputs": [],
   "source": [
    "##### Coverage"
   ]
  },
  {
   "cell_type": "code",
   "execution_count": 36,
   "id": "e6a292e4-5e66-4ff5-80dd-d9acc882954a",
   "metadata": {},
   "outputs": [
    {
     "data": {
      "image/png": "[encoded data removed]",
      "text/plain": [
       "<Figure size 432x288 with 1 Axes>"
      ]
     },
     "metadata": {
      "needs_background": "light"
     },
     "output_type": "display_data"
    }
   ],
   "source": [
    "sns.countplot(df[\"Coverage\"])\n",
    "plt.show()"
   ]
  },
  {
   "cell_type": "code",
   "execution_count": 37,
   "id": "21200521-d72e-427e-b44b-7f40642b953f",
   "metadata": {},
   "outputs": [],
   "source": [
    "##### Renew Offer Type"
   ]
  },
  {
   "cell_type": "code",
   "execution_count": 38,
   "id": "130e2cc2-5579-494f-a20f-39217b772858",
   "metadata": {},
   "outputs": [
    {
     "data": {
      "image/png": "[encoded data removed]",
      "text/plain": [
       "<Figure size 432x288 with 1 Axes>"
      ]
     },
     "metadata": {
      "needs_background": "light"
     },
     "output_type": "display_data"
    }
   ],
   "source": [
    "sns.countplot(df[\"Renew Offer Type\"])\n",
    "plt.show()"
   ]
  },
  {
   "cell_type": "code",
   "execution_count": 41,
   "id": "2f8ae757-8c8a-4471-ab23-26038fa594e4",
   "metadata": {},
   "outputs": [
    {
     "data": {
      "image/png": "[encoded data removed]",
      "text/plain": [
       "<Figure size 432x288 with 1 Axes>"
      ]
     },
     "metadata": {
      "needs_background": "light"
     },
     "output_type": "display_data"
    }
   ],
   "source": [
    "sns.countplot(df[\"EmploymentStatus\"])\n",
    "plt.show()"
   ]
  },
  {
   "cell_type": "code",
   "execution_count": 42,
   "id": "4b03a578-b9ff-4b72-b06d-e7b9194fb2a5",
   "metadata": {},
   "outputs": [
    {
     "data": {
      "image/png": "[encoded data removed]",
      "text/plain": [
       "<Figure size 432x288 with 1 Axes>"
      ]
     },
     "metadata": {
      "needs_background": "light"
     },
     "output_type": "display_data"
    }
   ],
   "source": [
    "sns.countplot(df[\"Marital Status\"])\n",
    "plt.show()"
   ]
  },
  {
   "cell_type": "code",
   "execution_count": 43,
   "id": "2ce04cae-0d7e-432d-8ce9-5327f45f7581",
   "metadata": {},
   "outputs": [
    {
     "data": {
      "image/png": "[encoded data removed]",
      "text/plain": [
       "<Figure size 432x288 with 1 Axes>"
      ]
     },
     "metadata": {
      "needs_background": "light"
     },
     "output_type": "display_data"
    }
   ],
   "source": [
    "sns.countplot(df[\"Education\"])\n",
    "plt.show()"
   ]
  },
  {
   "cell_type": "code",
   "execution_count": 44,
   "id": "ae15e641-883e-4549-be0b-2e0c86b53bd6",
   "metadata": {},
   "outputs": [
    {
     "data": {
      "image/png": "[encoded data removed]",
      "text/plain": [
       "<Figure size 432x288 with 1 Axes>"
      ]
     },
     "metadata": {
      "needs_background": "light"
     },
     "output_type": "display_data"
    }
   ],
   "source": [
    "sns.countplot(df[\"Number of Policies\"])\n",
    "plt.show()"
   ]
  },
  {
   "cell_type": "markdown",
   "id": "79192104-f54b-4367-ac74-19b6c98767be",
   "metadata": {},
   "source": [
    "## HeatMap"
   ]
  },
  {
   "cell_type": "code",
   "execution_count": 48,
   "id": "42ec88d7-a343-42be-a3dc-d3805c786334",
   "metadata": {
    "tags": []
   },
   "outputs": [],
   "source": [
    "heatmap = df[['CLV', 'Income', 'Monthly Premium Auto','Total Claim Amount']]"
   ]
  },
  {
   "cell_type": "code",
   "execution_count": 49,
   "id": "54f3b1db-f88c-40df-9328-6f8ffb013961",
   "metadata": {},
   "outputs": [
    {
     "data": {
      "image/png": "[encoded data removed]",
      "text/plain": [
       "<Figure size 504x288 with 2 Axes>"
      ]
     },
     "metadata": {
      "needs_background": "light"
     },
     "output_type": "display_data"
    }
   ],
   "source": [
    "plt.figure(figsize=(7,4))\n",
    "sns.heatmap(heatmap.corr(),annot=True)\n",
    "# plt.savefig(\"Heatmap.png\")\n",
    "plt.show()"
   ]
  },
  {
   "cell_type": "markdown",
   "id": "cefee799-24c6-4ac8-bc7f-5e2866010314",
   "metadata": {},
   "source": [
    "##### Kita dapat melihat dengan jelas di heatmap, bahwa customer lifetime value memiliki korelasi monthly premium auto dan korelasi yang dapat diterima dengan total claim amount."
   ]
  },
  {
   "cell_type": "markdown",
   "id": "c2011f21-757a-45c0-b9ca-5932eddf6ae1",
   "metadata": {},
   "source": [
    "## Data Preprocessing"
   ]
  },
  {
   "cell_type": "code",
   "execution_count": 73,
   "id": "94d55c6b-75b7-4d6e-9ed4-6e82d9e06431",
   "metadata": {},
   "outputs": [
    {
     "data": {
      "text/html": [
       "<div>\n",
       "<style scoped>\n",
       "    .dataframe tbody tr th:only-of-type {\n",
       "        vertical-align: middle;\n",
       "    }\n",
       "\n",
       "    .dataframe tbody tr th {\n",
       "        vertical-align: top;\n",
       "    }\n",
       "\n",
       "    .dataframe thead th {\n",
       "        text-align: right;\n",
       "    }\n",
       "</style>\n",
       "<table border=\"1\" class=\"dataframe\">\n",
       "  <thead>\n",
       "    <tr style=\"text-align: right;\">\n",
       "      <th></th>\n",
       "      <th>Vehicle Class</th>\n",
       "      <th>Coverage</th>\n",
       "      <th>Renew Offer Type</th>\n",
       "      <th>EmploymentStatus</th>\n",
       "      <th>Marital Status</th>\n",
       "      <th>Education</th>\n",
       "      <th>Number of Policies</th>\n",
       "    </tr>\n",
       "  </thead>\n",
       "  <tbody>\n",
       "    <tr>\n",
       "      <th>0</th>\n",
       "      <td>Four-Door Car</td>\n",
       "      <td>Extended</td>\n",
       "      <td>Offer1</td>\n",
       "      <td>Retired</td>\n",
       "      <td>Divorced</td>\n",
       "      <td>High School or Below</td>\n",
       "      <td>2</td>\n",
       "    </tr>\n",
       "    <tr>\n",
       "      <th>1</th>\n",
       "      <td>Four-Door Car</td>\n",
       "      <td>Basic</td>\n",
       "      <td>Offer1</td>\n",
       "      <td>Employed</td>\n",
       "      <td>Married</td>\n",
       "      <td>College</td>\n",
       "      <td>6</td>\n",
       "    </tr>\n",
       "    <tr>\n",
       "      <th>2</th>\n",
       "      <td>Two-Door Car</td>\n",
       "      <td>Basic</td>\n",
       "      <td>Offer1</td>\n",
       "      <td>Retired</td>\n",
       "      <td>Married</td>\n",
       "      <td>Master</td>\n",
       "      <td>2</td>\n",
       "    </tr>\n",
       "    <tr>\n",
       "      <th>3</th>\n",
       "      <td>Four-Door Car</td>\n",
       "      <td>Premium</td>\n",
       "      <td>Offer3</td>\n",
       "      <td>Disabled</td>\n",
       "      <td>Married</td>\n",
       "      <td>High School or Below</td>\n",
       "      <td>1</td>\n",
       "    </tr>\n",
       "    <tr>\n",
       "      <th>4</th>\n",
       "      <td>Two-Door Car</td>\n",
       "      <td>Basic</td>\n",
       "      <td>Offer3</td>\n",
       "      <td>Medical Leave</td>\n",
       "      <td>Married</td>\n",
       "      <td>High School or Below</td>\n",
       "      <td>1</td>\n",
       "    </tr>\n",
       "  </tbody>\n",
       "</table>\n",
       "</div>"
      ],
      "text/plain": [
       "   Vehicle Class  Coverage Renew Offer Type EmploymentStatus Marital Status  \\\n",
       "0  Four-Door Car  Extended           Offer1          Retired       Divorced   \n",
       "1  Four-Door Car     Basic           Offer1         Employed        Married   \n",
       "2   Two-Door Car     Basic           Offer1          Retired        Married   \n",
       "3  Four-Door Car   Premium           Offer3         Disabled        Married   \n",
       "4   Two-Door Car     Basic           Offer3    Medical Leave        Married   \n",
       "\n",
       "              Education  Number of Policies  \n",
       "0  High School or Below                   2  \n",
       "1               College                   6  \n",
       "2                Master                   2  \n",
       "3  High School or Below                   1  \n",
       "4  High School or Below                   1  "
      ]
     },
     "execution_count": 73,
     "metadata": {},
     "output_type": "execute_result"
    }
   ],
   "source": [
    "cat_cols.head()"
   ]
  },
  {
   "cell_type": "code",
   "execution_count": 74,
   "id": "0b9b3591-75a2-472a-affd-919585143cb0",
   "metadata": {},
   "outputs": [],
   "source": [
    "catg=pd.get_dummies(cat_cols,drop_first=True)"
   ]
  },
  {
   "cell_type": "code",
   "execution_count": 75,
   "id": "83d7ac8c-5dc1-4a8c-8429-9dfb587d8453",
   "metadata": {},
   "outputs": [
    {
     "data": {
      "text/html": [
       "<div>\n",
       "<style scoped>\n",
       "    .dataframe tbody tr th:only-of-type {\n",
       "        vertical-align: middle;\n",
       "    }\n",
       "\n",
       "    .dataframe tbody tr th {\n",
       "        vertical-align: top;\n",
       "    }\n",
       "\n",
       "    .dataframe thead th {\n",
       "        text-align: right;\n",
       "    }\n",
       "</style>\n",
       "<table border=\"1\" class=\"dataframe\">\n",
       "  <thead>\n",
       "    <tr style=\"text-align: right;\">\n",
       "      <th></th>\n",
       "      <th>Number of Policies</th>\n",
       "      <th>Monthly Premium Auto</th>\n",
       "      <th>Total Claim Amount</th>\n",
       "      <th>Income</th>\n",
       "      <th>CLV</th>\n",
       "    </tr>\n",
       "  </thead>\n",
       "  <tbody>\n",
       "    <tr>\n",
       "      <th>0</th>\n",
       "      <td>2</td>\n",
       "      <td>90</td>\n",
       "      <td>571.479602</td>\n",
       "      <td>11828</td>\n",
       "      <td>10083.486880</td>\n",
       "    </tr>\n",
       "    <tr>\n",
       "      <th>1</th>\n",
       "      <td>6</td>\n",
       "      <td>62</td>\n",
       "      <td>114.514440</td>\n",
       "      <td>44762</td>\n",
       "      <td>4943.386117</td>\n",
       "    </tr>\n",
       "    <tr>\n",
       "      <th>2</th>\n",
       "      <td>2</td>\n",
       "      <td>62</td>\n",
       "      <td>257.248789</td>\n",
       "      <td>21514</td>\n",
       "      <td>11981.984810</td>\n",
       "    </tr>\n",
       "    <tr>\n",
       "      <th>3</th>\n",
       "      <td>1</td>\n",
       "      <td>116</td>\n",
       "      <td>556.800000</td>\n",
       "      <td>17913</td>\n",
       "      <td>4550.856045</td>\n",
       "    </tr>\n",
       "    <tr>\n",
       "      <th>4</th>\n",
       "      <td>1</td>\n",
       "      <td>62</td>\n",
       "      <td>355.820799</td>\n",
       "      <td>19030</td>\n",
       "      <td>2372.155492</td>\n",
       "    </tr>\n",
       "  </tbody>\n",
       "</table>\n",
       "</div>"
      ],
      "text/plain": [
       "   Number of Policies  Monthly Premium Auto  Total Claim Amount  Income  \\\n",
       "0                   2                    90          571.479602   11828   \n",
       "1                   6                    62          114.514440   44762   \n",
       "2                   2                    62          257.248789   21514   \n",
       "3                   1                   116          556.800000   17913   \n",
       "4                   1                    62          355.820799   19030   \n",
       "\n",
       "            CLV  \n",
       "0  10083.486880  \n",
       "1   4943.386117  \n",
       "2  11981.984810  \n",
       "3   4550.856045  \n",
       "4   2372.155492  "
      ]
     },
     "execution_count": 75,
     "metadata": {},
     "output_type": "execute_result"
    }
   ],
   "source": [
    "numerical_cols.head()"
   ]
  },
  {
   "cell_type": "code",
   "execution_count": 76,
   "id": "91e51b76-31d4-4b44-8d92-36c4db2e27aa",
   "metadata": {},
   "outputs": [
    {
     "data": {
      "text/html": [
       "<div>\n",
       "<style scoped>\n",
       "    .dataframe tbody tr th:only-of-type {\n",
       "        vertical-align: middle;\n",
       "    }\n",
       "\n",
       "    .dataframe tbody tr th {\n",
       "        vertical-align: top;\n",
       "    }\n",
       "\n",
       "    .dataframe thead th {\n",
       "        text-align: right;\n",
       "    }\n",
       "</style>\n",
       "<table border=\"1\" class=\"dataframe\">\n",
       "  <thead>\n",
       "    <tr style=\"text-align: right;\">\n",
       "      <th></th>\n",
       "      <th>Number of Policies</th>\n",
       "      <th>Monthly Premium Auto</th>\n",
       "      <th>Total Claim Amount</th>\n",
       "      <th>Income</th>\n",
       "      <th>CLV</th>\n",
       "      <th>Number of Policies</th>\n",
       "      <th>Vehicle Class_Luxury Car</th>\n",
       "      <th>Vehicle Class_Luxury SUV</th>\n",
       "      <th>Vehicle Class_SUV</th>\n",
       "      <th>Vehicle Class_Sports Car</th>\n",
       "      <th>...</th>\n",
       "      <th>EmploymentStatus_Employed</th>\n",
       "      <th>EmploymentStatus_Medical Leave</th>\n",
       "      <th>EmploymentStatus_Retired</th>\n",
       "      <th>EmploymentStatus_Unemployed</th>\n",
       "      <th>Marital Status_Married</th>\n",
       "      <th>Marital Status_Single</th>\n",
       "      <th>Education_College</th>\n",
       "      <th>Education_Doctor</th>\n",
       "      <th>Education_High School or Below</th>\n",
       "      <th>Education_Master</th>\n",
       "    </tr>\n",
       "  </thead>\n",
       "  <tbody>\n",
       "    <tr>\n",
       "      <th>0</th>\n",
       "      <td>2</td>\n",
       "      <td>90</td>\n",
       "      <td>571.479602</td>\n",
       "      <td>11828</td>\n",
       "      <td>10083.486880</td>\n",
       "      <td>2</td>\n",
       "      <td>0</td>\n",
       "      <td>0</td>\n",
       "      <td>0</td>\n",
       "      <td>0</td>\n",
       "      <td>...</td>\n",
       "      <td>0</td>\n",
       "      <td>0</td>\n",
       "      <td>1</td>\n",
       "      <td>0</td>\n",
       "      <td>0</td>\n",
       "      <td>0</td>\n",
       "      <td>0</td>\n",
       "      <td>0</td>\n",
       "      <td>1</td>\n",
       "      <td>0</td>\n",
       "    </tr>\n",
       "    <tr>\n",
       "      <th>1</th>\n",
       "      <td>6</td>\n",
       "      <td>62</td>\n",
       "      <td>114.514440</td>\n",
       "      <td>44762</td>\n",
       "      <td>4943.386117</td>\n",
       "      <td>6</td>\n",
       "      <td>0</td>\n",
       "      <td>0</td>\n",
       "      <td>0</td>\n",
       "      <td>0</td>\n",
       "      <td>...</td>\n",
       "      <td>1</td>\n",
       "      <td>0</td>\n",
       "      <td>0</td>\n",
       "      <td>0</td>\n",
       "      <td>1</td>\n",
       "      <td>0</td>\n",
       "      <td>1</td>\n",
       "      <td>0</td>\n",
       "      <td>0</td>\n",
       "      <td>0</td>\n",
       "    </tr>\n",
       "    <tr>\n",
       "      <th>2</th>\n",
       "      <td>2</td>\n",
       "      <td>62</td>\n",
       "      <td>257.248789</td>\n",
       "      <td>21514</td>\n",
       "      <td>11981.984810</td>\n",
       "      <td>2</td>\n",
       "      <td>0</td>\n",
       "      <td>0</td>\n",
       "      <td>0</td>\n",
       "      <td>0</td>\n",
       "      <td>...</td>\n",
       "      <td>0</td>\n",
       "      <td>0</td>\n",
       "      <td>1</td>\n",
       "      <td>0</td>\n",
       "      <td>1</td>\n",
       "      <td>0</td>\n",
       "      <td>0</td>\n",
       "      <td>0</td>\n",
       "      <td>0</td>\n",
       "      <td>1</td>\n",
       "    </tr>\n",
       "    <tr>\n",
       "      <th>3</th>\n",
       "      <td>1</td>\n",
       "      <td>116</td>\n",
       "      <td>556.800000</td>\n",
       "      <td>17913</td>\n",
       "      <td>4550.856045</td>\n",
       "      <td>1</td>\n",
       "      <td>0</td>\n",
       "      <td>0</td>\n",
       "      <td>0</td>\n",
       "      <td>0</td>\n",
       "      <td>...</td>\n",
       "      <td>0</td>\n",
       "      <td>0</td>\n",
       "      <td>0</td>\n",
       "      <td>0</td>\n",
       "      <td>1</td>\n",
       "      <td>0</td>\n",
       "      <td>0</td>\n",
       "      <td>0</td>\n",
       "      <td>1</td>\n",
       "      <td>0</td>\n",
       "    </tr>\n",
       "    <tr>\n",
       "      <th>4</th>\n",
       "      <td>1</td>\n",
       "      <td>62</td>\n",
       "      <td>355.820799</td>\n",
       "      <td>19030</td>\n",
       "      <td>2372.155492</td>\n",
       "      <td>1</td>\n",
       "      <td>0</td>\n",
       "      <td>0</td>\n",
       "      <td>0</td>\n",
       "      <td>0</td>\n",
       "      <td>...</td>\n",
       "      <td>0</td>\n",
       "      <td>1</td>\n",
       "      <td>0</td>\n",
       "      <td>0</td>\n",
       "      <td>1</td>\n",
       "      <td>0</td>\n",
       "      <td>0</td>\n",
       "      <td>0</td>\n",
       "      <td>1</td>\n",
       "      <td>0</td>\n",
       "    </tr>\n",
       "  </tbody>\n",
       "</table>\n",
       "<p>5 rows × 26 columns</p>\n",
       "</div>"
      ],
      "text/plain": [
       "   Number of Policies  Monthly Premium Auto  Total Claim Amount  Income  \\\n",
       "0                   2                    90          571.479602   11828   \n",
       "1                   6                    62          114.514440   44762   \n",
       "2                   2                    62          257.248789   21514   \n",
       "3                   1                   116          556.800000   17913   \n",
       "4                   1                    62          355.820799   19030   \n",
       "\n",
       "            CLV  Number of Policies  Vehicle Class_Luxury Car  \\\n",
       "0  10083.486880                   2                         0   \n",
       "1   4943.386117                   6                         0   \n",
       "2  11981.984810                   2                         0   \n",
       "3   4550.856045                   1                         0   \n",
       "4   2372.155492                   1                         0   \n",
       "\n",
       "   Vehicle Class_Luxury SUV  Vehicle Class_SUV  Vehicle Class_Sports Car  ...  \\\n",
       "0                         0                  0                         0  ...   \n",
       "1                         0                  0                         0  ...   \n",
       "2                         0                  0                         0  ...   \n",
       "3                         0                  0                         0  ...   \n",
       "4                         0                  0                         0  ...   \n",
       "\n",
       "   EmploymentStatus_Employed  EmploymentStatus_Medical Leave  \\\n",
       "0                          0                               0   \n",
       "1                          1                               0   \n",
       "2                          0                               0   \n",
       "3                          0                               0   \n",
       "4                          0                               1   \n",
       "\n",
       "   EmploymentStatus_Retired  EmploymentStatus_Unemployed  \\\n",
       "0                         1                            0   \n",
       "1                         0                            0   \n",
       "2                         1                            0   \n",
       "3                         0                            0   \n",
       "4                         0                            0   \n",
       "\n",
       "   Marital Status_Married  Marital Status_Single  Education_College  \\\n",
       "0                       0                      0                  0   \n",
       "1                       1                      0                  1   \n",
       "2                       1                      0                  0   \n",
       "3                       1                      0                  0   \n",
       "4                       1                      0                  0   \n",
       "\n",
       "   Education_Doctor  Education_High School or Below  Education_Master  \n",
       "0                 0                               1                 0  \n",
       "1                 0                               0                 0  \n",
       "2                 0                               0                 1  \n",
       "3                 0                               1                 0  \n",
       "4                 0                               1                 0  \n",
       "\n",
       "[5 rows x 26 columns]"
      ]
     },
     "execution_count": 76,
     "metadata": {},
     "output_type": "execute_result"
    }
   ],
   "source": [
    "dfn = pd.concat([numerical_cols,catg],axis=1)\n",
    "dfn.head()"
   ]
  },
  {
   "cell_type": "code",
   "execution_count": 123,
   "id": "7676cd97-2119-4ae0-ba48-f5817d5797d8",
   "metadata": {},
   "outputs": [],
   "source": [
    "dfn.rename(columns={'CLV':'CLV'},inplace=True)"
   ]
  },
  {
   "cell_type": "code",
   "execution_count": 125,
   "id": "2c686f12-5793-47da-a5c3-3e9b41130d6d",
   "metadata": {},
   "outputs": [],
   "source": [
    "df2 = df.copy()"
   ]
  },
  {
   "cell_type": "code",
   "execution_count": 126,
   "id": "b3ad77e4-a160-4ed4-983e-a722caa4e5e4",
   "metadata": {},
   "outputs": [
    {
     "data": {
      "text/html": [
       "<div>\n",
       "<style scoped>\n",
       "    .dataframe tbody tr th:only-of-type {\n",
       "        vertical-align: middle;\n",
       "    }\n",
       "\n",
       "    .dataframe tbody tr th {\n",
       "        vertical-align: top;\n",
       "    }\n",
       "\n",
       "    .dataframe thead th {\n",
       "        text-align: right;\n",
       "    }\n",
       "</style>\n",
       "<table border=\"1\" class=\"dataframe\">\n",
       "  <thead>\n",
       "    <tr style=\"text-align: right;\">\n",
       "      <th></th>\n",
       "      <th>Data Features</th>\n",
       "      <th>Data Types</th>\n",
       "      <th>Null</th>\n",
       "      <th>Null Percentage</th>\n",
       "      <th>Unique</th>\n",
       "      <th>Unique Sample</th>\n",
       "    </tr>\n",
       "  </thead>\n",
       "  <tbody>\n",
       "    <tr>\n",
       "      <th>0</th>\n",
       "      <td>Vehicle Class</td>\n",
       "      <td>object</td>\n",
       "      <td>0</td>\n",
       "      <td>0.0</td>\n",
       "      <td>6</td>\n",
       "      <td>[Luxury SUV]</td>\n",
       "    </tr>\n",
       "    <tr>\n",
       "      <th>1</th>\n",
       "      <td>Coverage</td>\n",
       "      <td>object</td>\n",
       "      <td>0</td>\n",
       "      <td>0.0</td>\n",
       "      <td>3</td>\n",
       "      <td>[Extended]</td>\n",
       "    </tr>\n",
       "    <tr>\n",
       "      <th>2</th>\n",
       "      <td>Renew Offer Type</td>\n",
       "      <td>object</td>\n",
       "      <td>0</td>\n",
       "      <td>0.0</td>\n",
       "      <td>4</td>\n",
       "      <td>[Offer2]</td>\n",
       "    </tr>\n",
       "    <tr>\n",
       "      <th>3</th>\n",
       "      <td>EmploymentStatus</td>\n",
       "      <td>object</td>\n",
       "      <td>0</td>\n",
       "      <td>0.0</td>\n",
       "      <td>5</td>\n",
       "      <td>[Medical Leave]</td>\n",
       "    </tr>\n",
       "    <tr>\n",
       "      <th>4</th>\n",
       "      <td>Marital Status</td>\n",
       "      <td>object</td>\n",
       "      <td>0</td>\n",
       "      <td>0.0</td>\n",
       "      <td>3</td>\n",
       "      <td>[Married]</td>\n",
       "    </tr>\n",
       "    <tr>\n",
       "      <th>5</th>\n",
       "      <td>Education</td>\n",
       "      <td>object</td>\n",
       "      <td>0</td>\n",
       "      <td>0.0</td>\n",
       "      <td>5</td>\n",
       "      <td>[Master]</td>\n",
       "    </tr>\n",
       "    <tr>\n",
       "      <th>6</th>\n",
       "      <td>Number of Policies</td>\n",
       "      <td>int64</td>\n",
       "      <td>0</td>\n",
       "      <td>0.0</td>\n",
       "      <td>9</td>\n",
       "      <td>[2]</td>\n",
       "    </tr>\n",
       "    <tr>\n",
       "      <th>7</th>\n",
       "      <td>Monthly Premium Auto</td>\n",
       "      <td>int64</td>\n",
       "      <td>0</td>\n",
       "      <td>0.0</td>\n",
       "      <td>191</td>\n",
       "      <td>[173]</td>\n",
       "    </tr>\n",
       "    <tr>\n",
       "      <th>8</th>\n",
       "      <td>Total Claim Amount</td>\n",
       "      <td>float64</td>\n",
       "      <td>0</td>\n",
       "      <td>0.0</td>\n",
       "      <td>3274</td>\n",
       "      <td>[639.105556]</td>\n",
       "    </tr>\n",
       "    <tr>\n",
       "      <th>9</th>\n",
       "      <td>Income</td>\n",
       "      <td>int64</td>\n",
       "      <td>0</td>\n",
       "      <td>0.0</td>\n",
       "      <td>3625</td>\n",
       "      <td>[64431]</td>\n",
       "    </tr>\n",
       "    <tr>\n",
       "      <th>10</th>\n",
       "      <td>CLV</td>\n",
       "      <td>float64</td>\n",
       "      <td>0</td>\n",
       "      <td>0.0</td>\n",
       "      <td>5049</td>\n",
       "      <td>[4903.810606]</td>\n",
       "    </tr>\n",
       "  </tbody>\n",
       "</table>\n",
       "</div>"
      ],
      "text/plain": [
       "           Data Features Data Types  Null  Null Percentage  Unique  \\\n",
       "0          Vehicle Class     object     0              0.0       6   \n",
       "1               Coverage     object     0              0.0       3   \n",
       "2       Renew Offer Type     object     0              0.0       4   \n",
       "3       EmploymentStatus     object     0              0.0       5   \n",
       "4         Marital Status     object     0              0.0       3   \n",
       "5              Education     object     0              0.0       5   \n",
       "6     Number of Policies      int64     0              0.0       9   \n",
       "7   Monthly Premium Auto      int64     0              0.0     191   \n",
       "8     Total Claim Amount    float64     0              0.0    3274   \n",
       "9                 Income      int64     0              0.0    3625   \n",
       "10                   CLV    float64     0              0.0    5049   \n",
       "\n",
       "      Unique Sample  \n",
       "0      [Luxury SUV]  \n",
       "1        [Extended]  \n",
       "2          [Offer2]  \n",
       "3   [Medical Leave]  \n",
       "4         [Married]  \n",
       "5          [Master]  \n",
       "6               [2]  \n",
       "7             [173]  \n",
       "8      [639.105556]  \n",
       "9           [64431]  \n",
       "10    [4903.810606]  "
      ]
     },
     "execution_count": 126,
     "metadata": {},
     "output_type": "execute_result"
    }
   ],
   "source": [
    "datadesc = []\n",
    "for i in df2.columns:\n",
    "    datadesc.append([i,\n",
    "                     df2[i].dtypes,\n",
    "                     df2[i].isna().sum(),\n",
    "                     round((df2[i].isna().sum()/len(df2)*100),2),\n",
    "                     df2[i].nunique(),\n",
    "                     df2[i].drop_duplicates().sample(1).values])\n",
    "\n",
    "pd.DataFrame(datadesc,columns=['Data Features',\n",
    "                               'Data Types',\n",
    "                               'Null',\n",
    "                               'Null Percentage',\n",
    "                               'Unique',\n",
    "                               'Unique Sample'])"
   ]
  },
  {
   "cell_type": "code",
   "execution_count": 127,
   "id": "fdd99d6c-afd2-413f-948b-c936967d62fc",
   "metadata": {},
   "outputs": [
    {
     "data": {
      "text/plain": [
       "618"
      ]
     },
     "execution_count": 127,
     "metadata": {},
     "output_type": "execute_result"
    }
   ],
   "source": [
    "df2.duplicated().sum()"
   ]
  },
  {
   "cell_type": "code",
   "execution_count": 128,
   "id": "6457b61a-7725-4f63-8477-c83f1b33c955",
   "metadata": {},
   "outputs": [],
   "source": [
    "df2.drop_duplicates(inplace=True)"
   ]
  },
  {
   "cell_type": "code",
   "execution_count": 129,
   "id": "a6dce5b3-fbd2-4ce0-b6e1-b2158afbce41",
   "metadata": {},
   "outputs": [
    {
     "data": {
      "text/plain": [
       "0"
      ]
     },
     "execution_count": 129,
     "metadata": {},
     "output_type": "execute_result"
    }
   ],
   "source": [
    "df2.duplicated().sum()"
   ]
  },
  {
   "cell_type": "code",
   "execution_count": 131,
   "id": "b3dd5105-88d8-4ca1-b6c4-4b3d18eab4d8",
   "metadata": {},
   "outputs": [
    {
     "data": {
      "text/html": [
       "<div>\n",
       "<style scoped>\n",
       "    .dataframe tbody tr th:only-of-type {\n",
       "        vertical-align: middle;\n",
       "    }\n",
       "\n",
       "    .dataframe tbody tr th {\n",
       "        vertical-align: top;\n",
       "    }\n",
       "\n",
       "    .dataframe thead th {\n",
       "        text-align: right;\n",
       "    }\n",
       "</style>\n",
       "<table border=\"1\" class=\"dataframe\">\n",
       "  <thead>\n",
       "    <tr style=\"text-align: right;\">\n",
       "      <th></th>\n",
       "      <th>Vehicle Class</th>\n",
       "      <th>Coverage</th>\n",
       "      <th>Renew Offer Type</th>\n",
       "      <th>EmploymentStatus</th>\n",
       "      <th>Marital Status</th>\n",
       "      <th>Education</th>\n",
       "      <th>Number of Policies</th>\n",
       "      <th>Monthly Premium Auto</th>\n",
       "      <th>Total Claim Amount</th>\n",
       "      <th>Income</th>\n",
       "      <th>CLV</th>\n",
       "    </tr>\n",
       "  </thead>\n",
       "  <tbody>\n",
       "    <tr>\n",
       "      <th>16</th>\n",
       "      <td>Four-Door Car</td>\n",
       "      <td>Basic</td>\n",
       "      <td>Offer2</td>\n",
       "      <td>Unemployed</td>\n",
       "      <td>Married</td>\n",
       "      <td>Bachelor</td>\n",
       "      <td>7</td>\n",
       "      <td>64</td>\n",
       "      <td>307.200000</td>\n",
       "      <td>0</td>\n",
       "      <td>4774.751709</td>\n",
       "    </tr>\n",
       "    <tr>\n",
       "      <th>17</th>\n",
       "      <td>SUV</td>\n",
       "      <td>Extended</td>\n",
       "      <td>Offer1</td>\n",
       "      <td>Unemployed</td>\n",
       "      <td>Single</td>\n",
       "      <td>College</td>\n",
       "      <td>1</td>\n",
       "      <td>129</td>\n",
       "      <td>1178.950186</td>\n",
       "      <td>0</td>\n",
       "      <td>4711.845199</td>\n",
       "    </tr>\n",
       "    <tr>\n",
       "      <th>21</th>\n",
       "      <td>SUV</td>\n",
       "      <td>Extended</td>\n",
       "      <td>Offer4</td>\n",
       "      <td>Unemployed</td>\n",
       "      <td>Single</td>\n",
       "      <td>Bachelor</td>\n",
       "      <td>1</td>\n",
       "      <td>126</td>\n",
       "      <td>907.200000</td>\n",
       "      <td>0</td>\n",
       "      <td>4531.675269</td>\n",
       "    </tr>\n",
       "    <tr>\n",
       "      <th>24</th>\n",
       "      <td>Two-Door Car</td>\n",
       "      <td>Extended</td>\n",
       "      <td>Offer1</td>\n",
       "      <td>Unemployed</td>\n",
       "      <td>Divorced</td>\n",
       "      <td>Bachelor</td>\n",
       "      <td>5</td>\n",
       "      <td>95</td>\n",
       "      <td>456.000000</td>\n",
       "      <td>0</td>\n",
       "      <td>6846.150323</td>\n",
       "    </tr>\n",
       "    <tr>\n",
       "      <th>26</th>\n",
       "      <td>Four-Door Car</td>\n",
       "      <td>Basic</td>\n",
       "      <td>Offer4</td>\n",
       "      <td>Unemployed</td>\n",
       "      <td>Single</td>\n",
       "      <td>Bachelor</td>\n",
       "      <td>1</td>\n",
       "      <td>66</td>\n",
       "      <td>475.200000</td>\n",
       "      <td>0</td>\n",
       "      <td>2239.647297</td>\n",
       "    </tr>\n",
       "    <tr>\n",
       "      <th>...</th>\n",
       "      <td>...</td>\n",
       "      <td>...</td>\n",
       "      <td>...</td>\n",
       "      <td>...</td>\n",
       "      <td>...</td>\n",
       "      <td>...</td>\n",
       "      <td>...</td>\n",
       "      <td>...</td>\n",
       "      <td>...</td>\n",
       "      <td>...</td>\n",
       "      <td>...</td>\n",
       "    </tr>\n",
       "    <tr>\n",
       "      <th>5651</th>\n",
       "      <td>SUV</td>\n",
       "      <td>Extended</td>\n",
       "      <td>Offer1</td>\n",
       "      <td>Unemployed</td>\n",
       "      <td>Single</td>\n",
       "      <td>High School or Below</td>\n",
       "      <td>1</td>\n",
       "      <td>129</td>\n",
       "      <td>1486.410662</td>\n",
       "      <td>0</td>\n",
       "      <td>4502.867562</td>\n",
       "    </tr>\n",
       "    <tr>\n",
       "      <th>5652</th>\n",
       "      <td>Four-Door Car</td>\n",
       "      <td>Extended</td>\n",
       "      <td>Offer4</td>\n",
       "      <td>Unemployed</td>\n",
       "      <td>Married</td>\n",
       "      <td>Bachelor</td>\n",
       "      <td>5</td>\n",
       "      <td>95</td>\n",
       "      <td>456.000000</td>\n",
       "      <td>0</td>\n",
       "      <td>6661.744145</td>\n",
       "    </tr>\n",
       "    <tr>\n",
       "      <th>5655</th>\n",
       "      <td>Two-Door Car</td>\n",
       "      <td>Basic</td>\n",
       "      <td>Offer1</td>\n",
       "      <td>Unemployed</td>\n",
       "      <td>Married</td>\n",
       "      <td>Bachelor</td>\n",
       "      <td>9</td>\n",
       "      <td>67</td>\n",
       "      <td>132.443705</td>\n",
       "      <td>0</td>\n",
       "      <td>4927.707574</td>\n",
       "    </tr>\n",
       "    <tr>\n",
       "      <th>5660</th>\n",
       "      <td>Two-Door Car</td>\n",
       "      <td>Basic</td>\n",
       "      <td>Offer2</td>\n",
       "      <td>Unemployed</td>\n",
       "      <td>Single</td>\n",
       "      <td>College</td>\n",
       "      <td>7</td>\n",
       "      <td>72</td>\n",
       "      <td>391.636628</td>\n",
       "      <td>0</td>\n",
       "      <td>4936.888359</td>\n",
       "    </tr>\n",
       "    <tr>\n",
       "      <th>5664</th>\n",
       "      <td>Four-Door Car</td>\n",
       "      <td>Basic</td>\n",
       "      <td>Offer4</td>\n",
       "      <td>Unemployed</td>\n",
       "      <td>Single</td>\n",
       "      <td>High School or Below</td>\n",
       "      <td>1</td>\n",
       "      <td>74</td>\n",
       "      <td>532.800000</td>\n",
       "      <td>0</td>\n",
       "      <td>2442.216651</td>\n",
       "    </tr>\n",
       "  </tbody>\n",
       "</table>\n",
       "<p>1332 rows × 11 columns</p>\n",
       "</div>"
      ],
      "text/plain": [
       "      Vehicle Class  Coverage Renew Offer Type EmploymentStatus  \\\n",
       "16    Four-Door Car     Basic           Offer2       Unemployed   \n",
       "17              SUV  Extended           Offer1       Unemployed   \n",
       "21              SUV  Extended           Offer4       Unemployed   \n",
       "24     Two-Door Car  Extended           Offer1       Unemployed   \n",
       "26    Four-Door Car     Basic           Offer4       Unemployed   \n",
       "...             ...       ...              ...              ...   \n",
       "5651            SUV  Extended           Offer1       Unemployed   \n",
       "5652  Four-Door Car  Extended           Offer4       Unemployed   \n",
       "5655   Two-Door Car     Basic           Offer1       Unemployed   \n",
       "5660   Two-Door Car     Basic           Offer2       Unemployed   \n",
       "5664  Four-Door Car     Basic           Offer4       Unemployed   \n",
       "\n",
       "     Marital Status             Education  Number of Policies  \\\n",
       "16          Married              Bachelor                   7   \n",
       "17           Single               College                   1   \n",
       "21           Single              Bachelor                   1   \n",
       "24         Divorced              Bachelor                   5   \n",
       "26           Single              Bachelor                   1   \n",
       "...             ...                   ...                 ...   \n",
       "5651         Single  High School or Below                   1   \n",
       "5652        Married              Bachelor                   5   \n",
       "5655        Married              Bachelor                   9   \n",
       "5660         Single               College                   7   \n",
       "5664         Single  High School or Below                   1   \n",
       "\n",
       "      Monthly Premium Auto  Total Claim Amount  Income          CLV  \n",
       "16                      64          307.200000       0  4774.751709  \n",
       "17                     129         1178.950186       0  4711.845199  \n",
       "21                     126          907.200000       0  4531.675269  \n",
       "24                      95          456.000000       0  6846.150323  \n",
       "26                      66          475.200000       0  2239.647297  \n",
       "...                    ...                 ...     ...          ...  \n",
       "5651                   129         1486.410662       0  4502.867562  \n",
       "5652                    95          456.000000       0  6661.744145  \n",
       "5655                    67          132.443705       0  4927.707574  \n",
       "5660                    72          391.636628       0  4936.888359  \n",
       "5664                    74          532.800000       0  2442.216651  \n",
       "\n",
       "[1332 rows x 11 columns]"
      ]
     },
     "execution_count": 131,
     "metadata": {},
     "output_type": "execute_result"
    }
   ],
   "source": [
    "df2[df2['Income']==0]"
   ]
  },
  {
   "cell_type": "code",
   "execution_count": 132,
   "id": "c689f05a-a766-43b8-ac41-37440f2ad1c9",
   "metadata": {},
   "outputs": [],
   "source": [
    "df2.drop(df2[(df2['Income']==0)].index, inplace =True)"
   ]
  },
  {
   "cell_type": "code",
   "execution_count": 134,
   "id": "2c2ad427-59da-4b47-947d-22c5cb08de00",
   "metadata": {},
   "outputs": [
    {
     "data": {
      "text/html": [
       "<div>\n",
       "<style scoped>\n",
       "    .dataframe tbody tr th:only-of-type {\n",
       "        vertical-align: middle;\n",
       "    }\n",
       "\n",
       "    .dataframe tbody tr th {\n",
       "        vertical-align: top;\n",
       "    }\n",
       "\n",
       "    .dataframe thead th {\n",
       "        text-align: right;\n",
       "    }\n",
       "</style>\n",
       "<table border=\"1\" class=\"dataframe\">\n",
       "  <thead>\n",
       "    <tr style=\"text-align: right;\">\n",
       "      <th></th>\n",
       "      <th>Vehicle Class</th>\n",
       "      <th>Coverage</th>\n",
       "      <th>Renew Offer Type</th>\n",
       "      <th>EmploymentStatus</th>\n",
       "      <th>Marital Status</th>\n",
       "      <th>Education</th>\n",
       "      <th>Number of Policies</th>\n",
       "      <th>Monthly Premium Auto</th>\n",
       "      <th>Total Claim Amount</th>\n",
       "      <th>Income</th>\n",
       "      <th>CLV</th>\n",
       "    </tr>\n",
       "  </thead>\n",
       "  <tbody>\n",
       "  </tbody>\n",
       "</table>\n",
       "</div>"
      ],
      "text/plain": [
       "Empty DataFrame\n",
       "Columns: [Vehicle Class, Coverage, Renew Offer Type, EmploymentStatus, Marital Status, Education, Number of Policies, Monthly Premium Auto, Total Claim Amount, Income, CLV]\n",
       "Index: []"
      ]
     },
     "execution_count": 134,
     "metadata": {},
     "output_type": "execute_result"
    }
   ],
   "source": [
    "df2[df2['Income']==0]"
   ]
  },
  {
   "cell_type": "code",
   "execution_count": null,
   "id": "f525fb84-0e44-4f49-8911-4984736b4f5a",
   "metadata": {},
   "outputs": [
    {
     "data": {
      "text/html": [
       "<div>\n",
       "<style scoped>\n",
       "    .dataframe tbody tr th:only-of-type {\n",
       "        vertical-align: middle;\n",
       "    }\n",
       "\n",
       "    .dataframe tbody tr th {\n",
       "        vertical-align: top;\n",
       "    }\n",
       "\n",
       "    .dataframe thead th {\n",
       "        text-align: right;\n",
       "    }\n",
       "</style>\n",
       "<table border=\"1\" class=\"dataframe\">\n",
       "  <thead>\n",
       "    <tr style=\"text-align: right;\">\n",
       "      <th></th>\n",
       "      <th>Vehicle Class</th>\n",
       "      <th>Coverage</th>\n",
       "      <th>Renew Offer Type</th>\n",
       "      <th>EmploymentStatus</th>\n",
       "      <th>Marital Status</th>\n",
       "      <th>Education</th>\n",
       "      <th>Number of Policies</th>\n",
       "      <th>Monthly Premium Auto</th>\n",
       "      <th>Total Claim Amount</th>\n",
       "      <th>Income</th>\n",
       "      <th>CLV</th>\n",
       "    </tr>\n",
       "  </thead>\n",
       "  <tbody>\n",
       "    <tr>\n",
       "      <th>0</th>\n",
       "      <td>Four-Door Car</td>\n",
       "      <td>Extended</td>\n",
       "      <td>Offer1</td>\n",
       "      <td>Retired</td>\n",
       "      <td>Divorced</td>\n",
       "      <td>High School or Below</td>\n",
       "      <td>2</td>\n",
       "      <td>90</td>\n",
       "      <td>571.479602</td>\n",
       "      <td>11828</td>\n",
       "      <td>10083.486880</td>\n",
       "    </tr>\n",
       "    <tr>\n",
       "      <th>1</th>\n",
       "      <td>Four-Door Car</td>\n",
       "      <td>Basic</td>\n",
       "      <td>Offer1</td>\n",
       "      <td>Employed</td>\n",
       "      <td>Married</td>\n",
       "      <td>College</td>\n",
       "      <td>6</td>\n",
       "      <td>62</td>\n",
       "      <td>114.514440</td>\n",
       "      <td>44762</td>\n",
       "      <td>4943.386117</td>\n",
       "    </tr>\n",
       "    <tr>\n",
       "      <th>2</th>\n",
       "      <td>Two-Door Car</td>\n",
       "      <td>Basic</td>\n",
       "      <td>Offer1</td>\n",
       "      <td>Retired</td>\n",
       "      <td>Married</td>\n",
       "      <td>Master</td>\n",
       "      <td>2</td>\n",
       "      <td>62</td>\n",
       "      <td>257.248789</td>\n",
       "      <td>21514</td>\n",
       "      <td>11981.984810</td>\n",
       "    </tr>\n",
       "    <tr>\n",
       "      <th>3</th>\n",
       "      <td>Four-Door Car</td>\n",
       "      <td>Premium</td>\n",
       "      <td>Offer3</td>\n",
       "      <td>Disabled</td>\n",
       "      <td>Married</td>\n",
       "      <td>High School or Below</td>\n",
       "      <td>1</td>\n",
       "      <td>116</td>\n",
       "      <td>556.800000</td>\n",
       "      <td>17913</td>\n",
       "      <td>4550.856045</td>\n",
       "    </tr>\n",
       "    <tr>\n",
       "      <th>4</th>\n",
       "      <td>Two-Door Car</td>\n",
       "      <td>Basic</td>\n",
       "      <td>Offer3</td>\n",
       "      <td>Medical Leave</td>\n",
       "      <td>Married</td>\n",
       "      <td>High School or Below</td>\n",
       "      <td>1</td>\n",
       "      <td>62</td>\n",
       "      <td>355.820799</td>\n",
       "      <td>19030</td>\n",
       "      <td>2372.155492</td>\n",
       "    </tr>\n",
       "    <tr>\n",
       "      <th>...</th>\n",
       "      <td>...</td>\n",
       "      <td>...</td>\n",
       "      <td>...</td>\n",
       "      <td>...</td>\n",
       "      <td>...</td>\n",
       "      <td>...</td>\n",
       "      <td>...</td>\n",
       "      <td>...</td>\n",
       "      <td>...</td>\n",
       "      <td>...</td>\n",
       "      <td>...</td>\n",
       "    </tr>\n",
       "    <tr>\n",
       "      <th>5662</th>\n",
       "      <td>Luxury Car</td>\n",
       "      <td>Premium</td>\n",
       "      <td>Offer2</td>\n",
       "      <td>Employed</td>\n",
       "      <td>Married</td>\n",
       "      <td>Doctor</td>\n",
       "      <td>9</td>\n",
       "      <td>296</td>\n",
       "      <td>498.159874</td>\n",
       "      <td>79655</td>\n",
       "      <td>23984.621440</td>\n",
       "    </tr>\n",
       "    <tr>\n",
       "      <th>5663</th>\n",
       "      <td>Four-Door Car</td>\n",
       "      <td>Basic</td>\n",
       "      <td>Offer1</td>\n",
       "      <td>Employed</td>\n",
       "      <td>Married</td>\n",
       "      <td>High School or Below</td>\n",
       "      <td>2</td>\n",
       "      <td>69</td>\n",
       "      <td>446.084760</td>\n",
       "      <td>30595</td>\n",
       "      <td>8114.409136</td>\n",
       "    </tr>\n",
       "    <tr>\n",
       "      <th>5665</th>\n",
       "      <td>Four-Door Car</td>\n",
       "      <td>Premium</td>\n",
       "      <td>Offer1</td>\n",
       "      <td>Employed</td>\n",
       "      <td>Divorced</td>\n",
       "      <td>Bachelor</td>\n",
       "      <td>2</td>\n",
       "      <td>109</td>\n",
       "      <td>523.200000</td>\n",
       "      <td>27778</td>\n",
       "      <td>12904.943360</td>\n",
       "    </tr>\n",
       "    <tr>\n",
       "      <th>5666</th>\n",
       "      <td>Four-Door Car</td>\n",
       "      <td>Basic</td>\n",
       "      <td>Offer1</td>\n",
       "      <td>Employed</td>\n",
       "      <td>Single</td>\n",
       "      <td>Bachelor</td>\n",
       "      <td>1</td>\n",
       "      <td>62</td>\n",
       "      <td>44.780402</td>\n",
       "      <td>84658</td>\n",
       "      <td>2447.053134</td>\n",
       "    </tr>\n",
       "    <tr>\n",
       "      <th>5668</th>\n",
       "      <td>Luxury SUV</td>\n",
       "      <td>Basic</td>\n",
       "      <td>Offer2</td>\n",
       "      <td>Employed</td>\n",
       "      <td>Divorced</td>\n",
       "      <td>College</td>\n",
       "      <td>1</td>\n",
       "      <td>199</td>\n",
       "      <td>161.615740</td>\n",
       "      <td>60184</td>\n",
       "      <td>7664.219255</td>\n",
       "    </tr>\n",
       "  </tbody>\n",
       "</table>\n",
       "<p>3719 rows × 11 columns</p>\n",
       "</div>"
      ],
      "text/plain": [
       "      Vehicle Class  Coverage Renew Offer Type EmploymentStatus  \\\n",
       "0     Four-Door Car  Extended           Offer1          Retired   \n",
       "1     Four-Door Car     Basic           Offer1         Employed   \n",
       "2      Two-Door Car     Basic           Offer1          Retired   \n",
       "3     Four-Door Car   Premium           Offer3         Disabled   \n",
       "4      Two-Door Car     Basic           Offer3    Medical Leave   \n",
       "...             ...       ...              ...              ...   \n",
       "5662     Luxury Car   Premium           Offer2         Employed   \n",
       "5663  Four-Door Car     Basic           Offer1         Employed   \n",
       "5665  Four-Door Car   Premium           Offer1         Employed   \n",
       "5666  Four-Door Car     Basic           Offer1         Employed   \n",
       "5668     Luxury SUV     Basic           Offer2         Employed   \n",
       "\n",
       "     Marital Status             Education  Number of Policies  \\\n",
       "0          Divorced  High School or Below                   2   \n",
       "1           Married               College                   6   \n",
       "2           Married                Master                   2   \n",
       "3           Married  High School or Below                   1   \n",
       "4           Married  High School or Below                   1   \n",
       "...             ...                   ...                 ...   \n",
       "5662        Married                Doctor                   9   \n",
       "5663        Married  High School or Below                   2   \n",
       "5665       Divorced              Bachelor                   2   \n",
       "5666         Single              Bachelor                   1   \n",
       "5668       Divorced               College                   1   \n",
       "\n",
       "      Monthly Premium Auto  Total Claim Amount  Income           CLV  \n",
       "0                       90          571.479602   11828  10083.486880  \n",
       "1                       62          114.514440   44762   4943.386117  \n",
       "2                       62          257.248789   21514  11981.984810  \n",
       "3                      116          556.800000   17913   4550.856045  \n",
       "4                       62          355.820799   19030   2372.155492  \n",
       "...                    ...                 ...     ...           ...  \n",
       "5662                   296          498.159874   79655  23984.621440  \n",
       "5663                    69          446.084760   30595   8114.409136  \n",
       "5665                   109          523.200000   27778  12904.943360  \n",
       "5666                    62           44.780402   84658   2447.053134  \n",
       "5668                   199          161.615740   60184   7664.219255  \n",
       "\n",
       "[3719 rows x 11 columns]"
      ]
     },
     "execution_count": 135,
     "metadata": {},
     "output_type": "execute_result"
    }
   ],
   "source": [
    "df2"
   ]
  },
  {
   "cell_type": "markdown",
   "id": "7b171788-a1c4-41a3-a2af-ffde6bdd8307",
   "metadata": {
    "tags": []
   },
   "source": [
    "### OLS MODEL"
   ]
  },
  {
   "cell_type": "code",
   "execution_count": 81,
   "id": "e2d7051b-496c-4f2a-b3f9-f635ea611741",
   "metadata": {},
   "outputs": [
    {
     "data": {
      "text/html": [
       "<table class=\"simpletable\">\n",
       "<caption>OLS Regression Results</caption>\n",
       "<tr>\n",
       "  <th>Dep. Variable:</th>           <td>CLV</td>       <th>  R-squared:         </th> <td>   0.173</td> \n",
       "</tr>\n",
       "<tr>\n",
       "  <th>Model:</th>                   <td>OLS</td>       <th>  Adj. R-squared:    </th> <td>   0.170</td> \n",
       "</tr>\n",
       "<tr>\n",
       "  <th>Method:</th>             <td>Least Squares</td>  <th>  F-statistic:       </th> <td>   49.29</td> \n",
       "</tr>\n",
       "<tr>\n",
       "  <th>Date:</th>             <td>Mon, 23 May 2022</td> <th>  Prob (F-statistic):</th> <td>6.29e-212</td>\n",
       "</tr>\n",
       "<tr>\n",
       "  <th>Time:</th>                 <td>22:58:09</td>     <th>  Log-Likelihood:    </th> <td> -57628.</td> \n",
       "</tr>\n",
       "<tr>\n",
       "  <th>No. Observations:</th>      <td>  5669</td>      <th>  AIC:               </th> <td>1.153e+05</td>\n",
       "</tr>\n",
       "<tr>\n",
       "  <th>Df Residuals:</th>          <td>  5644</td>      <th>  BIC:               </th> <td>1.155e+05</td>\n",
       "</tr>\n",
       "<tr>\n",
       "  <th>Df Model:</th>              <td>    24</td>      <th>                     </th>     <td> </td>    \n",
       "</tr>\n",
       "<tr>\n",
       "  <th>Covariance Type:</th>      <td>nonrobust</td>    <th>                     </th>     <td> </td>    \n",
       "</tr>\n",
       "</table>\n",
       "<table class=\"simpletable\">\n",
       "<tr>\n",
       "                 <td></td>                   <th>coef</th>     <th>std err</th>      <th>t</th>      <th>P>|t|</th>  <th>[0.025</th>    <th>0.975]</th>  \n",
       "</tr>\n",
       "<tr>\n",
       "  <th>const</th>                          <td> 1095.3058</td> <td>  956.491</td> <td>    1.145</td> <td> 0.252</td> <td> -779.784</td> <td> 2970.396</td>\n",
       "</tr>\n",
       "<tr>\n",
       "  <th>Number of Policies</th>             <td>   20.6374</td> <td>   17.639</td> <td>    1.170</td> <td> 0.242</td> <td>  -13.941</td> <td>   55.216</td>\n",
       "</tr>\n",
       "<tr>\n",
       "  <th>Monthly Premium Auto</th>           <td>   75.8491</td> <td>   12.585</td> <td>    6.027</td> <td> 0.000</td> <td>   51.177</td> <td>  100.521</td>\n",
       "</tr>\n",
       "<tr>\n",
       "  <th>Total Claim Amount</th>             <td>   -1.2945</td> <td>    0.445</td> <td>   -2.912</td> <td> 0.004</td> <td>   -2.166</td> <td>   -0.423</td>\n",
       "</tr>\n",
       "<tr>\n",
       "  <th>Income</th>                         <td>    0.0002</td> <td>    0.005</td> <td>    0.050</td> <td> 0.960</td> <td>   -0.009</td> <td>    0.010</td>\n",
       "</tr>\n",
       "<tr>\n",
       "  <th>Number of Policies</th>             <td>   20.6374</td> <td>   17.639</td> <td>    1.170</td> <td> 0.242</td> <td>  -13.941</td> <td>   55.216</td>\n",
       "</tr>\n",
       "<tr>\n",
       "  <th>Vehicle Class_Luxury Car</th>       <td> 1013.9448</td> <td> 1738.360</td> <td>    0.583</td> <td> 0.560</td> <td>-2393.909</td> <td> 4421.799</td>\n",
       "</tr>\n",
       "<tr>\n",
       "  <th>Vehicle Class_Luxury SUV</th>       <td> 1470.4278</td> <td> 1748.376</td> <td>    0.841</td> <td> 0.400</td> <td>-1957.062</td> <td> 4897.917</td>\n",
       "</tr>\n",
       "<tr>\n",
       "  <th>Vehicle Class_SUV</th>              <td>  638.6967</td> <td>  581.724</td> <td>    1.098</td> <td> 0.272</td> <td> -501.705</td> <td> 1779.099</td>\n",
       "</tr>\n",
       "<tr>\n",
       "  <th>Vehicle Class_Sports Car</th>       <td> 1250.6211</td> <td>  664.296</td> <td>    1.883</td> <td> 0.060</td> <td>  -51.654</td> <td> 2552.896</td>\n",
       "</tr>\n",
       "<tr>\n",
       "  <th>Vehicle Class_Two-Door Car</th>     <td>  106.2611</td> <td>  218.239</td> <td>    0.487</td> <td> 0.626</td> <td> -321.572</td> <td>  534.094</td>\n",
       "</tr>\n",
       "<tr>\n",
       "  <th>Coverage_Extended</th>              <td>  107.8578</td> <td>  314.627</td> <td>    0.343</td> <td> 0.732</td> <td> -508.932</td> <td>  724.647</td>\n",
       "</tr>\n",
       "<tr>\n",
       "  <th>Coverage_Premium</th>               <td>  217.8611</td> <td>  674.672</td> <td>    0.323</td> <td> 0.747</td> <td>-1104.755</td> <td> 1540.477</td>\n",
       "</tr>\n",
       "<tr>\n",
       "  <th>Renew Offer Type_Offer2</th>        <td>-1073.1429</td> <td>  206.196</td> <td>   -5.204</td> <td> 0.000</td> <td>-1477.366</td> <td> -668.920</td>\n",
       "</tr>\n",
       "<tr>\n",
       "  <th>Renew Offer Type_Offer3</th>        <td> -721.3667</td> <td>  251.834</td> <td>   -2.864</td> <td> 0.004</td> <td>-1215.057</td> <td> -227.676</td>\n",
       "</tr>\n",
       "<tr>\n",
       "  <th>Renew Offer Type_Offer4</th>        <td>-1113.3610</td> <td>  290.869</td> <td>   -3.828</td> <td> 0.000</td> <td>-1683.577</td> <td> -543.146</td>\n",
       "</tr>\n",
       "<tr>\n",
       "  <th>EmploymentStatus_Employed</th>      <td>  666.8407</td> <td>  450.507</td> <td>    1.480</td> <td> 0.139</td> <td> -216.327</td> <td> 1550.008</td>\n",
       "</tr>\n",
       "<tr>\n",
       "  <th>EmploymentStatus_Medical Leave</th> <td>  691.4727</td> <td>  555.042</td> <td>    1.246</td> <td> 0.213</td> <td> -396.624</td> <td> 1779.569</td>\n",
       "</tr>\n",
       "<tr>\n",
       "  <th>EmploymentStatus_Retired</th>       <td> -157.4172</td> <td>  618.845</td> <td>   -0.254</td> <td> 0.799</td> <td>-1370.591</td> <td> 1055.757</td>\n",
       "</tr>\n",
       "<tr>\n",
       "  <th>EmploymentStatus_Unemployed</th>    <td>  219.4246</td> <td>  452.226</td> <td>    0.485</td> <td> 0.628</td> <td> -667.113</td> <td> 1105.962</td>\n",
       "</tr>\n",
       "<tr>\n",
       "  <th>Marital Status_Married</th>         <td>    8.7488</td> <td>  248.264</td> <td>    0.035</td> <td> 0.972</td> <td> -477.944</td> <td>  495.441</td>\n",
       "</tr>\n",
       "<tr>\n",
       "  <th>Marital Status_Single</th>          <td> -123.0811</td> <td>  286.152</td> <td>   -0.430</td> <td> 0.667</td> <td> -684.049</td> <td>  437.887</td>\n",
       "</tr>\n",
       "<tr>\n",
       "  <th>Education_College</th>              <td> -223.7756</td> <td>  217.926</td> <td>   -1.027</td> <td> 0.305</td> <td> -650.995</td> <td>  203.444</td>\n",
       "</tr>\n",
       "<tr>\n",
       "  <th>Education_Doctor</th>               <td> -204.4914</td> <td>  449.596</td> <td>   -0.455</td> <td> 0.649</td> <td>-1085.872</td> <td>  676.889</td>\n",
       "</tr>\n",
       "<tr>\n",
       "  <th>Education_High School or Below</th> <td>  451.8333</td> <td>  220.765</td> <td>    2.047</td> <td> 0.041</td> <td>   19.049</td> <td>  884.617</td>\n",
       "</tr>\n",
       "<tr>\n",
       "  <th>Education_Master</th>               <td>  644.1001</td> <td>  333.713</td> <td>    1.930</td> <td> 0.054</td> <td>  -10.106</td> <td> 1298.306</td>\n",
       "</tr>\n",
       "</table>\n",
       "<table class=\"simpletable\">\n",
       "<tr>\n",
       "  <th>Omnibus:</th>       <td>3530.006</td> <th>  Durbin-Watson:     </th> <td>   2.004</td> \n",
       "</tr>\n",
       "<tr>\n",
       "  <th>Prob(Omnibus):</th>  <td> 0.000</td>  <th>  Jarque-Bera (JB):  </th> <td>41267.968</td>\n",
       "</tr>\n",
       "<tr>\n",
       "  <th>Skew:</th>           <td> 2.844</td>  <th>  Prob(JB):          </th> <td>    0.00</td> \n",
       "</tr>\n",
       "<tr>\n",
       "  <th>Kurtosis:</th>       <td>14.931</td>  <th>  Cond. No.          </th> <td>1.28e+16</td> \n",
       "</tr>\n",
       "</table><br/><br/>Notes:<br/>[1] Standard Errors assume that the covariance matrix of the errors is correctly specified.<br/>[2] The smallest eigenvalue is 8.12e-20. This might indicate that there are<br/>strong multicollinearity problems or that the design matrix is singular."
      ],
      "text/plain": [
       "<class 'statsmodels.iolib.summary.Summary'>\n",
       "\"\"\"\n",
       "                            OLS Regression Results                            \n",
       "==============================================================================\n",
       "Dep. Variable:                    CLV   R-squared:                       0.173\n",
       "Model:                            OLS   Adj. R-squared:                  0.170\n",
       "Method:                 Least Squares   F-statistic:                     49.29\n",
       "Date:                Mon, 23 May 2022   Prob (F-statistic):          6.29e-212\n",
       "Time:                        22:58:09   Log-Likelihood:                -57628.\n",
       "No. Observations:                5669   AIC:                         1.153e+05\n",
       "Df Residuals:                    5644   BIC:                         1.155e+05\n",
       "Df Model:                          24                                         \n",
       "Covariance Type:            nonrobust                                         \n",
       "==================================================================================================\n",
       "                                     coef    std err          t      P>|t|      [0.025      0.975]\n",
       "--------------------------------------------------------------------------------------------------\n",
       "const                           1095.3058    956.491      1.145      0.252    -779.784    2970.396\n",
       "Number of Policies                20.6374     17.639      1.170      0.242     -13.941      55.216\n",
       "Monthly Premium Auto              75.8491     12.585      6.027      0.000      51.177     100.521\n",
       "Total Claim Amount                -1.2945      0.445     -2.912      0.004      -2.166      -0.423\n",
       "Income                             0.0002      0.005      0.050      0.960      -0.009       0.010\n",
       "Number of Policies                20.6374     17.639      1.170      0.242     -13.941      55.216\n",
       "Vehicle Class_Luxury Car        1013.9448   1738.360      0.583      0.560   -2393.909    4421.799\n",
       "Vehicle Class_Luxury SUV        1470.4278   1748.376      0.841      0.400   -1957.062    4897.917\n",
       "Vehicle Class_SUV                638.6967    581.724      1.098      0.272    -501.705    1779.099\n",
       "Vehicle Class_Sports Car        1250.6211    664.296      1.883      0.060     -51.654    2552.896\n",
       "Vehicle Class_Two-Door Car       106.2611    218.239      0.487      0.626    -321.572     534.094\n",
       "Coverage_Extended                107.8578    314.627      0.343      0.732    -508.932     724.647\n",
       "Coverage_Premium                 217.8611    674.672      0.323      0.747   -1104.755    1540.477\n",
       "Renew Offer Type_Offer2        -1073.1429    206.196     -5.204      0.000   -1477.366    -668.920\n",
       "Renew Offer Type_Offer3         -721.3667    251.834     -2.864      0.004   -1215.057    -227.676\n",
       "Renew Offer Type_Offer4        -1113.3610    290.869     -3.828      0.000   -1683.577    -543.146\n",
       "EmploymentStatus_Employed        666.8407    450.507      1.480      0.139    -216.327    1550.008\n",
       "EmploymentStatus_Medical Leave   691.4727    555.042      1.246      0.213    -396.624    1779.569\n",
       "EmploymentStatus_Retired        -157.4172    618.845     -0.254      0.799   -1370.591    1055.757\n",
       "EmploymentStatus_Unemployed      219.4246    452.226      0.485      0.628    -667.113    1105.962\n",
       "Marital Status_Married             8.7488    248.264      0.035      0.972    -477.944     495.441\n",
       "Marital Status_Single           -123.0811    286.152     -0.430      0.667    -684.049     437.887\n",
       "Education_College               -223.7756    217.926     -1.027      0.305    -650.995     203.444\n",
       "Education_Doctor                -204.4914    449.596     -0.455      0.649   -1085.872     676.889\n",
       "Education_High School or Below   451.8333    220.765      2.047      0.041      19.049     884.617\n",
       "Education_Master                 644.1001    333.713      1.930      0.054     -10.106    1298.306\n",
       "==============================================================================\n",
       "Omnibus:                     3530.006   Durbin-Watson:                   2.004\n",
       "Prob(Omnibus):                  0.000   Jarque-Bera (JB):            41267.968\n",
       "Skew:                           2.844   Prob(JB):                         0.00\n",
       "Kurtosis:                      14.931   Cond. No.                     1.28e+16\n",
       "==============================================================================\n",
       "\n",
       "Notes:\n",
       "[1] Standard Errors assume that the covariance matrix of the errors is correctly specified.\n",
       "[2] The smallest eigenvalue is 8.12e-20. This might indicate that there are\n",
       "strong multicollinearity problems or that the design matrix is singular.\n",
       "\"\"\""
      ]
     },
     "execution_count": 81,
     "metadata": {},
     "output_type": "execute_result"
    }
   ],
   "source": [
    "X=dfn.drop(['CLV'],axis=1)\n",
    "y=dfn['CLV']\n",
    "X_constant=sm.add_constant(X)\n",
    "lin_reg=sm.OLS(y,X_constant).fit()\n",
    "lin_reg.summary()"
   ]
  },
  {
   "cell_type": "markdown",
   "id": "26cf5d8e-e09f-4172-918a-99af5ebd0840",
   "metadata": {},
   "source": [
    "## Assumptions\n",
    "1. No autocorrelation\n",
    "2. Linearity of residuals\n",
    "3. Normality of error terms\n",
    "4. No Heteroscedacity\n",
    "5. No strong MultiCollinearity"
   ]
  },
  {
   "cell_type": "markdown",
   "id": "1ade102f-20bf-4d4d-94ec-748b1c524848",
   "metadata": {},
   "source": [
    "### Assumption 1 \n",
    "1. No Auto correlation\n",
    "Test needed : Durbin- Watson Test.\n",
    "\n",
    "Nilainya berkisar antara 0-4. Jika nilai Durbin-Watson antara 0-2, disebut dengan Autokorelasi Positif. Jika nilainya berkisar antara 2-4, maka disebut dengan Autokorelasi Negatif. Jika nilainya tepat 2, berarti Tidak Ada Autokorelasi. Untuk model linier yang baik, harus memiliki autokorelasi yang rendah atau tidak sama sekali. kita bisa lihat disini nilai dari uji dublin watson : 2,004 (NO AUTO-CORRELATION)"
   ]
  },
  {
   "cell_type": "code",
   "execution_count": 84,
   "id": "d6469863-7d79-4f01-b0ab-47184ee3edab",
   "metadata": {},
   "outputs": [
    {
     "data": {
      "image/png": "[encoded data removed]",
      "text/plain": [
       "<Figure size 432x288 with 1 Axes>"
      ]
     },
     "metadata": {
      "needs_background": "light"
     },
     "output_type": "display_data"
    }
   ],
   "source": [
    "import statsmodels.tsa.api as smt #timeseries analysis\n",
    "\n",
    "acf = smt.graphics.plot_acf(lin_reg.resid, lags=40 , alpha=0.05)#auto_correlation value, lags= previous value\n",
    "acf.show()"
   ]
  },
  {
   "cell_type": "markdown",
   "id": "e65e6a04-db27-443b-b23a-80d11084f13b",
   "metadata": {},
   "source": [
    "### Asumsi 2- Normalitas Residual \n",
    "2) Asumsi kedua adalah Normalitas Residual / Error terms.\n",
    "\n",
    "Uji Jarque Bera model yang baik. Semakin tinggi nilai Jarque Bera test maka semakin kecil residu yang berdistribusi normal. Kami biasanya lebih suka nilai yang lebih rendah dari tes jarque bea.\n",
    "\n",
    "Uji Jarque–Bera adalah uji kesesuaian apakah data sampel memiliki kecondongan dan kurtosis yang cocok dengan distribusi normal. Nilai yang besar untuk uji jarque-bera menunjukkan non normalitas.\n",
    "\n",
    "Uji jarque bera menguji apakah data sampel memiliki skewness dan kurtosis yang cocok dengan distribusi normal. Perhatikan bahwa tes ini umumnya bekerja dengan baik untuk jumlah sampel data yang cukup besar (>2000) karena statistik uji asimtotik memiliki distribusi chi kuadrat dengan derajat 2 kebebasan."
   ]
  },
  {
   "cell_type": "code",
   "execution_count": 85,
   "id": "7762e054-1ad2-481b-9409-27d733d50628",
   "metadata": {},
   "outputs": [],
   "source": [
    "# H0: the error terms berdistribusi normal\n",
    "# dof for residuals is n-2"
   ]
  },
  {
   "cell_type": "code",
   "execution_count": 86,
   "id": "e0258dc7-0b8f-4b55-8302-9dc08620c915",
   "metadata": {},
   "outputs": [
    {
     "name": "stdout",
     "output_type": "stream",
     "text": [
      "Jarque_beraResult(statistic=41267.96783286443, pvalue=0.0)\n"
     ]
    }
   ],
   "source": [
    "from scipy import stats\n",
    "print(stats.jarque_bera(lin_reg.resid))"
   ]
  },
  {
   "cell_type": "markdown",
   "id": "d902c7d2-2fa2-45be-a8f1-99073db975a1",
   "metadata": {},
   "source": [
    "Nilai kritis chi square pada taraf signifikansi 5% adalah 5,99. Jika nilai yang dihitung melebihi nilai ini, hipotesis nol ditolak. Dalam hal ini nilai statistik JB 41267.96 yang dihitung lebih kecil dari 5,99. Jadi kami menerima hipotesis nol bahwa istilah terdistribusi normal."
   ]
  },
  {
   "cell_type": "code",
   "execution_count": 87,
   "id": "49734723-fc8e-4631-85bc-38b5dcd14980",
   "metadata": {},
   "outputs": [
    {
     "data": {
      "image/png": "[encoded data removed]",
      "text/plain": [
       "<Figure size 432x288 with 1 Axes>"
      ]
     },
     "metadata": {
      "needs_background": "light"
     },
     "output_type": "display_data"
    }
   ],
   "source": [
    "import seaborn as sns\n",
    "\n",
    "sns.distplot(lin_reg.resid)\n",
    "plt.show()"
   ]
  },
  {
   "cell_type": "markdown",
   "id": "75e422ad-419d-4494-ba6a-cfa6075ecea8",
   "metadata": {},
   "source": [
    "Dari grafik kami menyimpulkan bahwa karena nilai uji Jarque Bera yang rendah, artinya tidak berdistribusi normal"
   ]
  },
  {
   "cell_type": "markdown",
   "id": "49ccc44b-7ebc-4479-b70c-0fa9a325009b",
   "metadata": {},
   "source": [
    "#### Asssumption 3 - Linearity of residuals"
   ]
  },
  {
   "cell_type": "markdown",
   "id": "8a1b9d63-6a1a-449c-9c8c-a9dac06a8afc",
   "metadata": {},
   "source": [
    "Di sini kita memiliki 2 pilihan. Entah kita dapat memplot nilai yang diamati Vs nilai prediksi dan memplot nilai prediksi Residual Vs dan melihat linearitas residual. ATAU Kita bisa pergi untuk rainbow test. Mari kita lihat keduanya satu per satu."
   ]
  },
  {
   "cell_type": "code",
   "execution_count": 88,
   "id": "2a05ab83-84b8-4da0-8090-0cc8c20d56c5",
   "metadata": {},
   "outputs": [
    {
     "data": {
      "text/plain": [
       "(1.0435316554788037, 0.12891272792470418)"
      ]
     },
     "execution_count": 88,
     "metadata": {},
     "output_type": "execute_result"
    }
   ],
   "source": [
    "import statsmodels.api as sm\n",
    "sm.stats.diagnostic.linear_rainbow(res=lin_reg, frac=0.5)#the fraction of the data to include in the center model"
   ]
  },
  {
   "cell_type": "markdown",
   "id": "f905fc2b-4237-434a-9b1e-f7cf494643d5",
   "metadata": {},
   "source": [
    "H0 : Datanya linier, pvalue > 0,05 gagal menolak H0, disini kita gagal menolak H0 sehingga residual berdistribusi normal"
   ]
  },
  {
   "cell_type": "code",
   "execution_count": 89,
   "id": "5205f31a-7852-4c2d-b34f-bf3a7fb8e757",
   "metadata": {},
   "outputs": [
    {
     "data": {
      "text/plain": [
       "1.1632563977749204e-09"
      ]
     },
     "execution_count": 89,
     "metadata": {},
     "output_type": "execute_result"
    }
   ],
   "source": [
    "lin_reg.resid.mean()"
   ]
  },
  {
   "cell_type": "markdown",
   "id": "e0856c5b-d540-4cab-814a-f8a30ef6e83d",
   "metadata": {},
   "source": [
    "#### Assumption 4 Homoscedasticity_test(using goldfeld test) OR (Beusch-Wagon Test) Homoscedacity\n",
    "Jika varians dari residual terdistribusi secara simetris melintasi garis regresi , maka data tersebut dikatakan homoskedastis.\n",
    "\n",
    "Heteroskedastisitas :: Jika varians tidak sama untuk residual yang melintasi garis regresi, maka data tersebut dikatakan heteroskedastis. Dalam hal ini residual dapat membentuk bentuk panah atau bentuk tidak simetris lainnya.\n",
    "\n",
    "Pengujian ini didasarkan pada pengujian hipotesis dimana hipotesis nol dan hipotesis alternatif adalah: 0:𝜎𝑢𝑖 𝑐𝑜𝑛𝑠𝑡𝑎𝑛𝑡 𝑟𝑎𝑛𝑔𝑒 :𝜎𝑢𝑖 𝑐𝑜𝑛𝑠𝑡𝑎𝑛𝑡 Residu harus homoskedastis."
   ]
  },
  {
   "cell_type": "code",
   "execution_count": 90,
   "id": "8a1c3d35-d122-4b7b-9e79-60dc21194960",
   "metadata": {},
   "outputs": [],
   "source": [
    "import statsmodels.stats.api as sms"
   ]
  },
  {
   "cell_type": "code",
   "execution_count": 91,
   "id": "dec10633-a4bc-4efa-bccc-d470e796fd63",
   "metadata": {},
   "outputs": [
    {
     "data": {
      "text/plain": [
       "(0.8967660046813972, 0.998053616899942, 'increasing')"
      ]
     },
     "execution_count": 91,
     "metadata": {},
     "output_type": "execute_result"
    }
   ],
   "source": [
    "name=['F-statistic','p-value']\n",
    "test=sms.het_goldfeldquandt(lin_reg.resid,lin_reg.model.exog)\n",
    "\n",
    "test"
   ]
  },
  {
   "cell_type": "markdown",
   "id": "098a5b26-3f33-48ab-9e74-b9602013a81a",
   "metadata": {},
   "source": [
    "\n",
    "nilai p di bawah tingkat tertentu (seperti 0,05) menunjukkan bahwa kita harus menolak nol demi heteroskedastisitas."
   ]
  },
  {
   "cell_type": "markdown",
   "id": "3dbde0f6-2e8f-4379-a163-b219a9bc469a",
   "metadata": {},
   "source": [
    "#### Assumption 5- NO MULTI COLLINEARITY"
   ]
  },
  {
   "cell_type": "markdown",
   "id": "a88f11a3-ecf1-4f4e-9fd5-f213db7ad448",
   "metadata": {},
   "source": [
    "Interpretasi VIF adalah sebagai berikut: akar kuadrat dari VIF variabel yang diberikan menunjukkan seberapa besar kesalahan standar, dibandingkan dengan apa yang akan terjadi jika prediktor itu tidak berkorelasi dengan fitur lain dalam model. Jika tidak ada fitur yang berkorelasi, maka semua nilai untuk VIF akan menjadi 1."
   ]
  },
  {
   "cell_type": "code",
   "execution_count": 92,
   "id": "d45346d9-486c-4027-a850-32488c7aa1fc",
   "metadata": {},
   "outputs": [
    {
     "data": {
      "text/html": [
       "<div>\n",
       "<style scoped>\n",
       "    .dataframe tbody tr th:only-of-type {\n",
       "        vertical-align: middle;\n",
       "    }\n",
       "\n",
       "    .dataframe tbody tr th {\n",
       "        vertical-align: top;\n",
       "    }\n",
       "\n",
       "    .dataframe thead th {\n",
       "        text-align: right;\n",
       "    }\n",
       "</style>\n",
       "<table border=\"1\" class=\"dataframe\">\n",
       "  <thead>\n",
       "    <tr style=\"text-align: right;\">\n",
       "      <th></th>\n",
       "      <th>vif</th>\n",
       "    </tr>\n",
       "  </thead>\n",
       "  <tbody>\n",
       "    <tr>\n",
       "      <th>Number of Policies</th>\n",
       "      <td>inf</td>\n",
       "    </tr>\n",
       "    <tr>\n",
       "      <th>Monthly Premium Auto</th>\n",
       "      <td>26.982562</td>\n",
       "    </tr>\n",
       "    <tr>\n",
       "      <th>Total Claim Amount</th>\n",
       "      <td>2.332089</td>\n",
       "    </tr>\n",
       "    <tr>\n",
       "      <th>Income</th>\n",
       "      <td>3.112450</td>\n",
       "    </tr>\n",
       "    <tr>\n",
       "      <th>Number of Policies</th>\n",
       "      <td>inf</td>\n",
       "    </tr>\n",
       "    <tr>\n",
       "      <th>Vehicle Class_Luxury Car</th>\n",
       "      <td>7.986979</td>\n",
       "    </tr>\n",
       "    <tr>\n",
       "      <th>Vehicle Class_Luxury SUV</th>\n",
       "      <td>8.670853</td>\n",
       "    </tr>\n",
       "    <tr>\n",
       "      <th>Vehicle Class_SUV</th>\n",
       "      <td>7.532404</td>\n",
       "    </tr>\n",
       "    <tr>\n",
       "      <th>Vehicle Class_Sports Car</th>\n",
       "      <td>3.226091</td>\n",
       "    </tr>\n",
       "    <tr>\n",
       "      <th>Vehicle Class_Two-Door Car</th>\n",
       "      <td>1.124626</td>\n",
       "    </tr>\n",
       "    <tr>\n",
       "      <th>Coverage_Extended</th>\n",
       "      <td>2.970247</td>\n",
       "    </tr>\n",
       "    <tr>\n",
       "      <th>Coverage_Premium</th>\n",
       "      <td>5.111009</td>\n",
       "    </tr>\n",
       "    <tr>\n",
       "      <th>Renew Offer Type_Offer2</th>\n",
       "      <td>1.328422</td>\n",
       "    </tr>\n",
       "    <tr>\n",
       "      <th>Renew Offer Type_Offer3</th>\n",
       "      <td>1.208886</td>\n",
       "    </tr>\n",
       "    <tr>\n",
       "      <th>Renew Offer Type_Offer4</th>\n",
       "      <td>1.212629</td>\n",
       "    </tr>\n",
       "    <tr>\n",
       "      <th>EmploymentStatus_Employed</th>\n",
       "      <td>6.791874</td>\n",
       "    </tr>\n",
       "    <tr>\n",
       "      <th>EmploymentStatus_Medical Leave</th>\n",
       "      <td>1.973361</td>\n",
       "    </tr>\n",
       "    <tr>\n",
       "      <th>EmploymentStatus_Retired</th>\n",
       "      <td>1.680420</td>\n",
       "    </tr>\n",
       "    <tr>\n",
       "      <th>EmploymentStatus_Unemployed</th>\n",
       "      <td>5.502984</td>\n",
       "    </tr>\n",
       "    <tr>\n",
       "      <th>Marital Status_Married</th>\n",
       "      <td>2.138622</td>\n",
       "    </tr>\n",
       "    <tr>\n",
       "      <th>Marital Status_Single</th>\n",
       "      <td>2.287595</td>\n",
       "    </tr>\n",
       "    <tr>\n",
       "      <th>Education_College</th>\n",
       "      <td>1.403628</td>\n",
       "    </tr>\n",
       "    <tr>\n",
       "      <th>Education_Doctor</th>\n",
       "      <td>1.104281</td>\n",
       "    </tr>\n",
       "    <tr>\n",
       "      <th>Education_High School or Below</th>\n",
       "      <td>1.419746</td>\n",
       "    </tr>\n",
       "    <tr>\n",
       "      <th>Education_Master</th>\n",
       "      <td>1.185078</td>\n",
       "    </tr>\n",
       "  </tbody>\n",
       "</table>\n",
       "</div>"
      ],
      "text/plain": [
       "                                      vif\n",
       "Number of Policies                    inf\n",
       "Monthly Premium Auto            26.982562\n",
       "Total Claim Amount               2.332089\n",
       "Income                           3.112450\n",
       "Number of Policies                    inf\n",
       "Vehicle Class_Luxury Car         7.986979\n",
       "Vehicle Class_Luxury SUV         8.670853\n",
       "Vehicle Class_SUV                7.532404\n",
       "Vehicle Class_Sports Car         3.226091\n",
       "Vehicle Class_Two-Door Car       1.124626\n",
       "Coverage_Extended                2.970247\n",
       "Coverage_Premium                 5.111009\n",
       "Renew Offer Type_Offer2          1.328422\n",
       "Renew Offer Type_Offer3          1.208886\n",
       "Renew Offer Type_Offer4          1.212629\n",
       "EmploymentStatus_Employed        6.791874\n",
       "EmploymentStatus_Medical Leave   1.973361\n",
       "EmploymentStatus_Retired         1.680420\n",
       "EmploymentStatus_Unemployed      5.502984\n",
       "Marital Status_Married           2.138622\n",
       "Marital Status_Single            2.287595\n",
       "Education_College                1.403628\n",
       "Education_Doctor                 1.104281\n",
       "Education_High School or Below   1.419746\n",
       "Education_Master                 1.185078"
      ]
     },
     "execution_count": 92,
     "metadata": {},
     "output_type": "execute_result"
    }
   ],
   "source": [
    "from statsmodels.stats.outliers_influence import variance_inflation_factor\n",
    "vif = [variance_inflation_factor(X_constant.values, i) for i in range(X_constant.shape[1])]\n",
    "pd.DataFrame({'vif': vif[1:]}, index=X.columns)"
   ]
  },
  {
   "cell_type": "markdown",
   "id": "e6c0e922-ce8c-4dd9-aacd-ac159bf5a519",
   "metadata": {},
   "source": [
    "kita dapat melihat bahwa ada VIF yang tinggi di Number of Policies kita telah melihat dalam pendekatan statistik, variable ini tidak signifikan untuk memprediksi target maka dari kesimpulan di atas kita dapat menghapusnya"
   ]
  },
  {
   "cell_type": "code",
   "execution_count": 94,
   "id": "ddcd2933-4b68-4644-89eb-9e028108e3fc",
   "metadata": {},
   "outputs": [],
   "source": [
    "from sklearn.model_selection import train_test_split\n",
    "X=dfn.drop(['CLV','Number of Policies'],axis=1)\n",
    "y=dfn['CLV']          \n",
    "y =np.log(y)\n",
    "X_train,X_test,y_train,y_test=train_test_split(X,y,test_size=0.30,random_state=42)"
   ]
  },
  {
   "cell_type": "code",
   "execution_count": 95,
   "id": "b04f2fbc-7727-4a62-8bc8-177e87458ca8",
   "metadata": {},
   "outputs": [],
   "source": [
    "numerical_cols.rename(columns={'CLV':'CLV'},inplace=True)"
   ]
  },
  {
   "cell_type": "code",
   "execution_count": 96,
   "id": "9a127d28-dba0-42c0-98bc-0b08a03eca50",
   "metadata": {},
   "outputs": [
    {
     "name": "stdout",
     "output_type": "stream",
     "text": [
      "(3968, 23)\n",
      "(3968,)\n",
      "(1701, 23)\n",
      "(1701,)\n"
     ]
    }
   ],
   "source": [
    "print(X_train.shape)\n",
    "print(y_train.shape)\n",
    "print(X_test.shape)\n",
    "print(y_test.shape)"
   ]
  },
  {
   "cell_type": "markdown",
   "id": "3dcb5ab0-4436-44ca-b1fb-e4cb507bcc5b",
   "metadata": {},
   "source": [
    "### Model Building"
   ]
  },
  {
   "cell_type": "markdown",
   "id": "c0b145ca-ab74-4769-b901-d293abbbe6f2",
   "metadata": {},
   "source": [
    "### Linear Regression"
   ]
  },
  {
   "cell_type": "code",
   "execution_count": 98,
   "id": "f800bc25-41d1-476e-b806-3f6bc85b0ecc",
   "metadata": {},
   "outputs": [
    {
     "name": "stdout",
     "output_type": "stream",
     "text": [
      "R^2 score for train: 0.22877867528836437\n",
      "R^2 score for test: 0.22367147711169366\n"
     ]
    }
   ],
   "source": [
    "lr = LinearRegression()\n",
    "model = lr.fit(X_train,y_train)\n",
    "print(f'R^2 score for train: {lr.score(X_train, y_train)}')\n",
    "print(f'R^2 score for test: {lr.score(X_test, y_test)}')"
   ]
  },
  {
   "cell_type": "code",
   "execution_count": 99,
   "id": "c1f7fc51-08fc-4718-8bd5-cea6b960196c",
   "metadata": {},
   "outputs": [],
   "source": [
    "y_pred = model.predict(X_test)"
   ]
  },
  {
   "cell_type": "code",
   "execution_count": 100,
   "id": "5b0c0d80-1655-4d74-a71c-87fd968dfb17",
   "metadata": {},
   "outputs": [
    {
     "name": "stdout",
     "output_type": "stream",
     "text": [
      "RMSE: 0.5772720723697451\n",
      "MAE 0.4466900394615319\n",
      "R-squared: 0.22367147711169366\n"
     ]
    }
   ],
   "source": [
    "print('RMSE:',np.sqrt(mean_squared_error(y_test,y_pred)))\n",
    "print(\"MAE\",mean_absolute_error(y_test,y_pred))\n",
    "print('R-squared:',r2_score(y_test,y_pred)) "
   ]
  },
  {
   "cell_type": "code",
   "execution_count": 101,
   "id": "f580f058-30fe-4ed9-9a2f-b71cfe11dede",
   "metadata": {},
   "outputs": [
    {
     "name": "stdout",
     "output_type": "stream",
     "text": [
      "['Monthly Premium Auto', 'Total Claim Amount', 'Vehicle Class_SUV', 'Vehicle Class_Sports Car', 'Coverage_Extended', 'Coverage_Premium', 'Renew Offer Type_Offer2', 'Renew Offer Type_Offer3', 'Renew Offer Type_Offer4', 'EmploymentStatus_Employed', 'Education_High School or Below', 'Education_Master']\n"
     ]
    }
   ],
   "source": [
    "#Feature Selection by Recursive Backward Elimination\n",
    "cols = list(X.columns)\n",
    "pmax = 1\n",
    "while (len(cols)>0):\n",
    "    p= []\n",
    "    X = X[cols]\n",
    "    Xc = sm.add_constant(X)\n",
    "    model = sm.OLS(y,Xc).fit()\n",
    "    p = pd.Series(model.pvalues.values[1:],index = cols)      \n",
    "    pmax = max(p)\n",
    "    feature_with_p_max = p.idxmax()\n",
    "    if(pmax>0.05):\n",
    "        cols.remove(feature_with_p_max)\n",
    "    else:\n",
    "        break\n",
    "selected_features = cols\n",
    "print(selected_features)"
   ]
  },
  {
   "cell_type": "code",
   "execution_count": 103,
   "id": "0f345d9c-21bc-4fa5-895e-7d71cd992b28",
   "metadata": {},
   "outputs": [],
   "source": [
    "X_new = X[['Monthly Premium Auto', 'Total Claim Amount', 'Vehicle Class_SUV', 'Vehicle Class_Sports Car', 'Coverage_Extended', 'Coverage_Premium', 'Renew Offer Type_Offer2', 'Renew Offer Type_Offer3', 'Renew Offer Type_Offer4', 'EmploymentStatus_Employed', 'Education_High School or Below', 'Education_Master']]"
   ]
  },
  {
   "cell_type": "code",
   "execution_count": 104,
   "id": "c9250c07-c48f-4a28-8fb2-4d35f35759cc",
   "metadata": {},
   "outputs": [
    {
     "data": {
      "text/html": [
       "<table class=\"simpletable\">\n",
       "<caption>OLS Regression Results</caption>\n",
       "<tr>\n",
       "  <th>Dep. Variable:</th>           <td>CLV</td>       <th>  R-squared:         </th> <td>   0.227</td> \n",
       "</tr>\n",
       "<tr>\n",
       "  <th>Model:</th>                   <td>OLS</td>       <th>  Adj. R-squared:    </th> <td>   0.226</td> \n",
       "</tr>\n",
       "<tr>\n",
       "  <th>Method:</th>             <td>Least Squares</td>  <th>  F-statistic:       </th> <td>   138.5</td> \n",
       "</tr>\n",
       "<tr>\n",
       "  <th>Date:</th>             <td>Mon, 23 May 2022</td> <th>  Prob (F-statistic):</th> <td>3.03e-305</td>\n",
       "</tr>\n",
       "<tr>\n",
       "  <th>Time:</th>                 <td>23:37:32</td>     <th>  Log-Likelihood:    </th> <td> -4934.8</td> \n",
       "</tr>\n",
       "<tr>\n",
       "  <th>No. Observations:</th>      <td>  5669</td>      <th>  AIC:               </th> <td>   9896.</td> \n",
       "</tr>\n",
       "<tr>\n",
       "  <th>Df Residuals:</th>          <td>  5656</td>      <th>  BIC:               </th> <td>   9982.</td> \n",
       "</tr>\n",
       "<tr>\n",
       "  <th>Df Model:</th>              <td>    12</td>      <th>                     </th>     <td> </td>    \n",
       "</tr>\n",
       "<tr>\n",
       "  <th>Covariance Type:</th>      <td>nonrobust</td>    <th>                     </th>     <td> </td>    \n",
       "</tr>\n",
       "</table>\n",
       "<table class=\"simpletable\">\n",
       "<tr>\n",
       "                 <td></td>                   <th>coef</th>     <th>std err</th>      <th>t</th>      <th>P>|t|</th>  <th>[0.025</th>    <th>0.975]</th>  \n",
       "</tr>\n",
       "<tr>\n",
       "  <th>const</th>                          <td>    8.0289</td> <td>    0.028</td> <td>  288.689</td> <td> 0.000</td> <td>    7.974</td> <td>    8.083</td>\n",
       "</tr>\n",
       "<tr>\n",
       "  <th>Monthly Premium Auto</th>           <td>    0.0077</td> <td>    0.000</td> <td>   21.128</td> <td> 0.000</td> <td>    0.007</td> <td>    0.008</td>\n",
       "</tr>\n",
       "<tr>\n",
       "  <th>Total Claim Amount</th>             <td>   -0.0001</td> <td>  3.9e-05</td> <td>   -2.957</td> <td> 0.003</td> <td>   -0.000</td> <td>-3.89e-05</td>\n",
       "</tr>\n",
       "<tr>\n",
       "  <th>Vehicle Class_SUV</th>              <td>    0.1384</td> <td>    0.022</td> <td>    6.184</td> <td> 0.000</td> <td>    0.095</td> <td>    0.182</td>\n",
       "</tr>\n",
       "<tr>\n",
       "  <th>Vehicle Class_Sports Car</th>       <td>    0.1687</td> <td>    0.036</td> <td>    4.687</td> <td> 0.000</td> <td>    0.098</td> <td>    0.239</td>\n",
       "</tr>\n",
       "<tr>\n",
       "  <th>Coverage_Extended</th>              <td>    0.0650</td> <td>    0.018</td> <td>    3.560</td> <td> 0.000</td> <td>    0.029</td> <td>    0.101</td>\n",
       "</tr>\n",
       "<tr>\n",
       "  <th>Coverage_Premium</th>               <td>    0.0779</td> <td>    0.032</td> <td>    2.445</td> <td> 0.015</td> <td>    0.015</td> <td>    0.140</td>\n",
       "</tr>\n",
       "<tr>\n",
       "  <th>Renew Offer Type_Offer2</th>        <td>   -0.1494</td> <td>    0.019</td> <td>   -8.022</td> <td> 0.000</td> <td>   -0.186</td> <td>   -0.113</td>\n",
       "</tr>\n",
       "<tr>\n",
       "  <th>Renew Offer Type_Offer3</th>        <td>   -0.0899</td> <td>    0.023</td> <td>   -3.916</td> <td> 0.000</td> <td>   -0.135</td> <td>   -0.045</td>\n",
       "</tr>\n",
       "<tr>\n",
       "  <th>Renew Offer Type_Offer4</th>        <td>   -0.1699</td> <td>    0.026</td> <td>   -6.458</td> <td> 0.000</td> <td>   -0.221</td> <td>   -0.118</td>\n",
       "</tr>\n",
       "<tr>\n",
       "  <th>EmploymentStatus_Employed</th>      <td>    0.0823</td> <td>    0.018</td> <td>    4.571</td> <td> 0.000</td> <td>    0.047</td> <td>    0.118</td>\n",
       "</tr>\n",
       "<tr>\n",
       "  <th>Education_High School or Below</th> <td>    0.0603</td> <td>    0.017</td> <td>    3.444</td> <td> 0.001</td> <td>    0.026</td> <td>    0.095</td>\n",
       "</tr>\n",
       "<tr>\n",
       "  <th>Education_Master</th>               <td>    0.0711</td> <td>    0.029</td> <td>    2.467</td> <td> 0.014</td> <td>    0.015</td> <td>    0.128</td>\n",
       "</tr>\n",
       "</table>\n",
       "<table class=\"simpletable\">\n",
       "<tr>\n",
       "  <th>Omnibus:</th>       <td>432.993</td> <th>  Durbin-Watson:     </th> <td>   2.024</td> \n",
       "</tr>\n",
       "<tr>\n",
       "  <th>Prob(Omnibus):</th> <td> 0.000</td>  <th>  Jarque-Bera (JB):  </th> <td> 536.405</td> \n",
       "</tr>\n",
       "<tr>\n",
       "  <th>Skew:</th>          <td> 0.745</td>  <th>  Prob(JB):          </th> <td>3.32e-117</td>\n",
       "</tr>\n",
       "<tr>\n",
       "  <th>Kurtosis:</th>      <td> 3.220</td>  <th>  Cond. No.          </th> <td>2.69e+03</td> \n",
       "</tr>\n",
       "</table><br/><br/>Notes:<br/>[1] Standard Errors assume that the covariance matrix of the errors is correctly specified.<br/>[2] The condition number is large, 2.69e+03. This might indicate that there are<br/>strong multicollinearity or other numerical problems."
      ],
      "text/plain": [
       "<class 'statsmodels.iolib.summary.Summary'>\n",
       "\"\"\"\n",
       "                            OLS Regression Results                            \n",
       "==============================================================================\n",
       "Dep. Variable:                    CLV   R-squared:                       0.227\n",
       "Model:                            OLS   Adj. R-squared:                  0.226\n",
       "Method:                 Least Squares   F-statistic:                     138.5\n",
       "Date:                Mon, 23 May 2022   Prob (F-statistic):          3.03e-305\n",
       "Time:                        23:37:32   Log-Likelihood:                -4934.8\n",
       "No. Observations:                5669   AIC:                             9896.\n",
       "Df Residuals:                    5656   BIC:                             9982.\n",
       "Df Model:                          12                                         \n",
       "Covariance Type:            nonrobust                                         \n",
       "==================================================================================================\n",
       "                                     coef    std err          t      P>|t|      [0.025      0.975]\n",
       "--------------------------------------------------------------------------------------------------\n",
       "const                              8.0289      0.028    288.689      0.000       7.974       8.083\n",
       "Monthly Premium Auto               0.0077      0.000     21.128      0.000       0.007       0.008\n",
       "Total Claim Amount                -0.0001    3.9e-05     -2.957      0.003      -0.000   -3.89e-05\n",
       "Vehicle Class_SUV                  0.1384      0.022      6.184      0.000       0.095       0.182\n",
       "Vehicle Class_Sports Car           0.1687      0.036      4.687      0.000       0.098       0.239\n",
       "Coverage_Extended                  0.0650      0.018      3.560      0.000       0.029       0.101\n",
       "Coverage_Premium                   0.0779      0.032      2.445      0.015       0.015       0.140\n",
       "Renew Offer Type_Offer2           -0.1494      0.019     -8.022      0.000      -0.186      -0.113\n",
       "Renew Offer Type_Offer3           -0.0899      0.023     -3.916      0.000      -0.135      -0.045\n",
       "Renew Offer Type_Offer4           -0.1699      0.026     -6.458      0.000      -0.221      -0.118\n",
       "EmploymentStatus_Employed          0.0823      0.018      4.571      0.000       0.047       0.118\n",
       "Education_High School or Below     0.0603      0.017      3.444      0.001       0.026       0.095\n",
       "Education_Master                   0.0711      0.029      2.467      0.014       0.015       0.128\n",
       "==============================================================================\n",
       "Omnibus:                      432.993   Durbin-Watson:                   2.024\n",
       "Prob(Omnibus):                  0.000   Jarque-Bera (JB):              536.405\n",
       "Skew:                           0.745   Prob(JB):                    3.32e-117\n",
       "Kurtosis:                       3.220   Cond. No.                     2.69e+03\n",
       "==============================================================================\n",
       "\n",
       "Notes:\n",
       "[1] Standard Errors assume that the covariance matrix of the errors is correctly specified.\n",
       "[2] The condition number is large, 2.69e+03. This might indicate that there are\n",
       "strong multicollinearity or other numerical problems.\n",
       "\"\"\""
      ]
     },
     "execution_count": 104,
     "metadata": {},
     "output_type": "execute_result"
    }
   ],
   "source": [
    "X_constant_new=sm.add_constant(X_new)\n",
    "lin_reg=sm.OLS(y,X_constant_new).fit()\n",
    "lin_reg.summary()"
   ]
  },
  {
   "cell_type": "markdown",
   "id": "f2d4bf0a-c2fb-4ee5-adbe-bacd35f66b1a",
   "metadata": {},
   "source": [
    "### Ridge and Lasso Regression"
   ]
  },
  {
   "cell_type": "code",
   "execution_count": 108,
   "id": "7e3202ea-b7ec-40d4-a4dd-3d915c246086",
   "metadata": {},
   "outputs": [
    {
     "name": "stdout",
     "output_type": "stream",
     "text": [
      "Ridge Regression\n",
      "RMSE: 0.5775293919608365\n",
      "R-squared: 0.22297922446257057\n"
     ]
    }
   ],
   "source": [
    "ridge=Ridge(alpha=0.1,normalize=True)\n",
    "ridge.fit(X_train,y_train)\n",
    "print('Ridge Regression')\n",
    "y_pred = ridge.predict(X_test)\n",
    "print('RMSE:', np.sqrt(mean_squared_error(y_test, y_pred)))\n",
    "print('R-squared:',r2_score(y_test,y_pred)) "
   ]
  },
  {
   "cell_type": "code",
   "execution_count": 109,
   "id": "3d7a722d-d813-4c05-9a47-870ca58a4974",
   "metadata": {},
   "outputs": [
    {
     "name": "stdout",
     "output_type": "stream",
     "text": [
      "Ridge Regression\n",
      "RMSE: 0.58817330973564\n",
      "R-squared: 0.1940741720081005\n"
     ]
    }
   ],
   "source": [
    "ridge=Ridge(alpha=1.0,normalize=True)\n",
    "ridge.fit(X_train,y_train)\n",
    "print('Ridge Regression')\n",
    "y_pred = ridge.predict(X_test)\n",
    "print('RMSE:', np.sqrt(mean_squared_error(y_test, y_pred)))\n",
    "print('R-squared:',r2_score(y_test,y_pred)) "
   ]
  },
  {
   "cell_type": "code",
   "execution_count": 110,
   "id": "eb4308e3-cf37-4638-9843-a6fad3832ed0",
   "metadata": {},
   "outputs": [
    {
     "name": "stdout",
     "output_type": "stream",
     "text": [
      "Ridge Regression\n",
      "RMSE: 0.5840620710985016\n",
      "R-squared: 0.2053013849376657\n"
     ]
    }
   ],
   "source": [
    "lasso = Lasso(random_state=1)\n",
    "lasso.fit(X_train,y_train)\n",
    "print('Ridge Regression')\n",
    "y_pred = lasso.predict(X_test)\n",
    "print('RMSE:', np.sqrt(mean_squared_error(y_test, y_pred)))\n",
    "print('R-squared:',r2_score(y_test,y_pred)) "
   ]
  },
  {
   "cell_type": "markdown",
   "id": "7c703735-8b8b-438c-8c0c-ff36a9965ed8",
   "metadata": {},
   "source": [
    "### Decision Tree Regression"
   ]
  },
  {
   "cell_type": "code",
   "execution_count": 112,
   "id": "3b44fe50-0a0c-4792-893c-64eeaa288450",
   "metadata": {},
   "outputs": [
    {
     "name": "stdout",
     "output_type": "stream",
     "text": [
      "RMSE: 0.7623159783814643\n",
      "MAE 0.5434249818679434\n",
      "R-squared: -0.35379994935507186\n"
     ]
    }
   ],
   "source": [
    "dt = DecisionTreeRegressor(random_state=1)\n",
    "\n",
    "dt.fit(X_train,y_train)\n",
    "y_pred=dt.predict(X_test)\n",
    "print('RMSE:',np.sqrt(mean_squared_error(y_test,y_pred)))\n",
    "print(\"MAE\",mean_absolute_error(y_test,y_pred))\n",
    "print('R-squared:',r2_score(y_test,y_pred)) "
   ]
  },
  {
   "cell_type": "markdown",
   "id": "441fd9e2-5217-403f-b850-4f56a39fca18",
   "metadata": {},
   "source": [
    "### Random Forest Regression"
   ]
  },
  {
   "cell_type": "code",
   "execution_count": 114,
   "id": "5fe72b00-fd05-4567-b485-a1237b1efb86",
   "metadata": {},
   "outputs": [
    {
     "name": "stdout",
     "output_type": "stream",
     "text": [
      "RMSE: 0.5550628100057401\n",
      "MAE 0.41762493086100444\n",
      "R-squared: 0.28225742604758797\n"
     ]
    }
   ],
   "source": [
    "rf = RandomForestRegressor(random_state=1)\n",
    "\n",
    "rf.fit(X_train,y_train)\n",
    "\n",
    "y_pred=rf.predict(X_test)\n",
    "print('RMSE:',np.sqrt(mean_squared_error(y_test,y_pred)))\n",
    "print(\"MAE\",mean_absolute_error(y_test,y_pred))\n",
    "print('R-squared:',r2_score(y_test,y_pred)) "
   ]
  },
  {
   "cell_type": "markdown",
   "id": "1584d2b7-6007-4e43-99b5-4fba4d1b5542",
   "metadata": {},
   "source": [
    "### Hyperparameter Tuning of Random Forest Regression"
   ]
  },
  {
   "cell_type": "code",
   "execution_count": 118,
   "id": "2c7c40ef-f150-4263-b589-e03310625336",
   "metadata": {
    "tags": []
   },
   "outputs": [
    {
     "data": {
      "text/plain": [
       "{'bootstrap': True,\n",
       " 'max_depth': 10,\n",
       " 'max_features': 'sqrt',\n",
       " 'n_estimators': 200}"
      ]
     },
     "execution_count": 118,
     "metadata": {},
     "output_type": "execute_result"
    }
   ],
   "source": [
    "rf = RandomForestRegressor()\n",
    "params = {\n",
    "        'max_depth' : [10,20,30],\n",
    "        \n",
    "        'n_estimators' : [100,200,50],\n",
    "        \n",
    "        \"bootstrap\" : [True, False],\n",
    "    \n",
    "        'max_features': ['auto', 'sqrt', 'log2']\n",
    "        \n",
    "        }\n",
    "\n",
    "grid = GridSearchCV(estimator = rf, param_grid=params, cv = 5, n_jobs = -1, return_train_score = True )\n",
    "grid.fit(X,y)\n",
    "grid.best_params_"
   ]
  },
  {
   "cell_type": "code",
   "execution_count": 139,
   "id": "176e0757-b7ae-40c0-bed0-4001111a5e84",
   "metadata": {},
   "outputs": [
    {
     "name": "stdout",
     "output_type": "stream",
     "text": [
      "RMSE: 0.5564302431515691\n",
      "MAE 0.4303902379463118\n",
      "R-squared: 0.2787166594196371\n"
     ]
    }
   ],
   "source": [
    "rf = RandomForestRegressor(**grid.best_params_)\n",
    "\n",
    "rf.fit(X_train,y_train)\n",
    "\n",
    "y_pred=rf.predict(X_test)\n",
    "print('RMSE:',np.sqrt(mean_squared_error(y_test,y_pred)))\n",
    "print(\"MAE\",mean_absolute_error(y_test,y_pred))\n",
    "print('R-squared:',r2_score(y_test,y_pred))"
   ]
  },
  {
   "cell_type": "code",
   "execution_count": 153,
   "id": "57262e6d-7d5a-4bef-b809-5b9caa3cda70",
   "metadata": {},
   "outputs": [
    {
     "data": {
      "text/plain": [
       "AdaBoostRegressor(base_estimator=RandomForestRegressor(max_depth=5),\n",
       "                  n_estimators=150)"
      ]
     },
     "execution_count": 153,
     "metadata": {},
     "output_type": "execute_result"
    }
   ],
   "source": [
    "adaboost = AdaBoostRegressor(\n",
    "    RandomForestRegressor(max_depth=5,criterion='mse'),\n",
    "    n_estimators=150\n",
    ")\n",
    "adaboost.fit(X_train, y_train)"
   ]
  },
  {
   "cell_type": "code",
   "execution_count": 145,
   "id": "2741bc85-69c6-4e36-8764-c5b3b05374eb",
   "metadata": {},
   "outputs": [
    {
     "name": "stdout",
     "output_type": "stream",
     "text": [
      "RMSE: 0.5746248379117106\n",
      "MAE 0.4456591617466812\n",
      "R-squared: 0.2307752729023076\n"
     ]
    }
   ],
   "source": [
    "y_pred = adaboost.predict(X_test)\n",
    "print('RMSE:',np.sqrt(mean_squared_error(y_test,y_pred)))\n",
    "print(\"MAE\",mean_absolute_error(y_test,y_pred))\n",
    "print('R-squared:',r2_score(y_test,y_pred))"
   ]
  },
  {
   "cell_type": "markdown",
   "id": "26c3a1f3-54ef-4bb4-a2c7-4bd5bc363a16",
   "metadata": {},
   "source": [
    "## Conclusion"
   ]
  },
  {
   "cell_type": "markdown",
   "id": "c56eddd4-dd3f-429c-9326-87f972786480",
   "metadata": {},
   "source": [
    "|**Model**|**R^2 Score**|**RMSE**|\n",
    "|---|---|---|\n",
    "|Linear Regression|0.22|0.57|\n",
    "|Ridge Regression|0.19|0.58|\n",
    "|Lasso Regression|0.20|0.58|\n",
    "|DecisionTree Regression|-0.35|0.76|\n",
    "|RandomForest Regression|0.28|0.55|\n",
    "|Adaboost Regression|0.23|0.57|\n",
    "|RandomForest with GridSearchCV|0.27|0.55|\n",
    "\n",
    "Dengan membandingkan hasil skor RMSE dan R^2 model dan kemudian kami memilih model terbaik sebagai Random Forest Regression, yang memiliki skor evaluasi terbaik.\n",
    "\n",
    "Secara keseluruhan kita dapat melihat bahwa No of Policies, Monthly Premium Auto, Total Claim Amount, Income, Coverage_Extended, EmploymentStatus_Employed dan Renew Offer Type_Offer1 adalah fitur penting dalam memprediksi Customer Lifetime Value.\n",
    "\n",
    "Pelanggan yang memiliki lebih banyak polis dengan premi bulanan yang tinggi akan menambah nilai lebih bagi perusahaan.\n",
    "\n",
    "Ironisnya sebagai perusahaan asuransi mobil, jenis tidak berpengaruh terhadap prediksi CLV.\n",
    "\n",
    "Para agen asuransi harus mulai meningkatkan iklan polis mereka bagi nasabah yang memiliki no. of policies, yang merupakan fitur utama dalam memprediksi CLV."
   ]
  },
  {
   "cell_type": "markdown",
   "id": "f0b8191b-3cf7-42df-ab09-353dc9bacfa9",
   "metadata": {},
   "source": [
    "## Recommendation"
   ]
  },
  {
   "cell_type": "markdown",
   "id": "5b5e497f-e853-4978-8ccd-015d530f2e9c",
   "metadata": {},
   "source": [
    "Hal-hal yang dapat dilakukan untuk mengembangkan model agar lebih baik lagi, seperti:\n",
    "\n",
    "1. Jika memungkinkan, fitur-fitur pada tabel dilakukan analisis terlebih dahulu dan diperiksa korelasinya dengan target ('Income'), seperti coverage terhadap income dan lain-lain. Selain itu, adanya penambahan data terkini untuk Customer Lifetime Value tentu akan dapat mengimprovisasi kapasitas prediksi dari model.\n",
    "\n",
    "2. Jika ada penambahan banyak data, dapat dicoba dengan menggunakan model yang lebih kompleks, seperti recursive neural networks (RNN). Namun, kalau jumlah data dan fiturnya masih seperti dataset ini, kemungkinan besar tidak akan mengubah hasilnya secara signifikan.\n",
    "\n",
    "3. Menambahkan fitur online agar mempermudah user untuk membuat car insurance"
   ]
  },
  {
   "cell_type": "code",
   "execution_count": null,
   "id": "e7ff65ed-3b08-4fff-a7d4-e2b92160aaa6",
   "metadata": {},
   "outputs": [],
   "source": []
  }
 ],
 "metadata": {
  "kernelspec": {
   "display_name": "Python 3 (ipykernel)",
   "language": "python",
   "name": "python3"
  },
  "language_info": {
   "codemirror_mode": {
    "name": "ipython",
    "version": 3
   },
   "file_extension": ".py",
   "mimetype": "text/x-python",
   "name": "python",
   "nbconvert_exporter": "python",
   "pygments_lexer": "ipython3",
   "version": "3.9.7"
  }
 },
 "nbformat": 4,
 "nbformat_minor": 5
}
